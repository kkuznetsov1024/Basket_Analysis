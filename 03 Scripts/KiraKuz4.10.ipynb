{
 "cells": [
  {
   "cell_type": "markdown",
   "metadata": {},
   "source": [
    "## Coding Etiquette & Excel Reporting\n",
    "\n",
    "#### Content \n",
    "1. Region analysis\n",
    "2. Spending analysis\n",
    "3. Time and day of sales analysis\n",
    "4. Age analysis\n",
    "5. Profiling\n",
    "6. Price statistics across profiling"
   ]
  },
  {
   "cell_type": "code",
   "execution_count": 1,
   "metadata": {},
   "outputs": [],
   "source": [
    "#importing the libraries\n",
    "import pandas as pd\n",
    "import numpy as np\n",
    "import os\n",
    "import matplotlib.pyplot as plt\n",
    "import seaborn as sns\n",
    "import scipy"
   ]
  },
  {
   "cell_type": "code",
   "execution_count": 2,
   "metadata": {},
   "outputs": [],
   "source": [
    "#importing customers data set\n",
    "df_cust=pd.read_pickle(r'C:\\Users\\kirat\\Documents\\Career Foundy\\Python\\Instacart Basket Analysis\\02 Data\\Prepared Data\\orders_products_customers.pkl')"
   ]
  },
  {
   "cell_type": "code",
   "execution_count": 3,
   "metadata": {},
   "outputs": [
    {
     "data": {
      "text/html": [
       "<div>\n",
       "<style scoped>\n",
       "    .dataframe tbody tr th:only-of-type {\n",
       "        vertical-align: middle;\n",
       "    }\n",
       "\n",
       "    .dataframe tbody tr th {\n",
       "        vertical-align: top;\n",
       "    }\n",
       "\n",
       "    .dataframe thead th {\n",
       "        text-align: right;\n",
       "    }\n",
       "</style>\n",
       "<table border=\"1\" class=\"dataframe\">\n",
       "  <thead>\n",
       "    <tr style=\"text-align: right;\">\n",
       "      <th></th>\n",
       "      <th>order_id</th>\n",
       "      <th>user_id</th>\n",
       "      <th>eval_set</th>\n",
       "      <th>order_number</th>\n",
       "      <th>order_dow</th>\n",
       "      <th>order_hour_of_day</th>\n",
       "      <th>days_since_prior_order</th>\n",
       "      <th>product_id</th>\n",
       "      <th>add_to_cart_order</th>\n",
       "      <th>reordered</th>\n",
       "      <th>...</th>\n",
       "      <th>frequency_flag</th>\n",
       "      <th>First Name</th>\n",
       "      <th>Last Name</th>\n",
       "      <th>Gender</th>\n",
       "      <th>STATE</th>\n",
       "      <th>Age</th>\n",
       "      <th>date_joined</th>\n",
       "      <th>n_dependants</th>\n",
       "      <th>fam_status</th>\n",
       "      <th>income</th>\n",
       "    </tr>\n",
       "  </thead>\n",
       "  <tbody>\n",
       "    <tr>\n",
       "      <th>0</th>\n",
       "      <td>2539329</td>\n",
       "      <td>1</td>\n",
       "      <td>prior</td>\n",
       "      <td>1</td>\n",
       "      <td>2</td>\n",
       "      <td>8</td>\n",
       "      <td>0.0</td>\n",
       "      <td>196</td>\n",
       "      <td>1</td>\n",
       "      <td>0</td>\n",
       "      <td>...</td>\n",
       "      <td>Regular customer</td>\n",
       "      <td>Linda</td>\n",
       "      <td>Nguyen</td>\n",
       "      <td>Female</td>\n",
       "      <td>Alabama</td>\n",
       "      <td>31</td>\n",
       "      <td>2/17/2019</td>\n",
       "      <td>3</td>\n",
       "      <td>married</td>\n",
       "      <td>40423</td>\n",
       "    </tr>\n",
       "    <tr>\n",
       "      <th>1</th>\n",
       "      <td>2398795</td>\n",
       "      <td>1</td>\n",
       "      <td>prior</td>\n",
       "      <td>2</td>\n",
       "      <td>3</td>\n",
       "      <td>7</td>\n",
       "      <td>15.0</td>\n",
       "      <td>196</td>\n",
       "      <td>1</td>\n",
       "      <td>1</td>\n",
       "      <td>...</td>\n",
       "      <td>Regular customer</td>\n",
       "      <td>Linda</td>\n",
       "      <td>Nguyen</td>\n",
       "      <td>Female</td>\n",
       "      <td>Alabama</td>\n",
       "      <td>31</td>\n",
       "      <td>2/17/2019</td>\n",
       "      <td>3</td>\n",
       "      <td>married</td>\n",
       "      <td>40423</td>\n",
       "    </tr>\n",
       "    <tr>\n",
       "      <th>2</th>\n",
       "      <td>473747</td>\n",
       "      <td>1</td>\n",
       "      <td>prior</td>\n",
       "      <td>3</td>\n",
       "      <td>3</td>\n",
       "      <td>12</td>\n",
       "      <td>21.0</td>\n",
       "      <td>196</td>\n",
       "      <td>1</td>\n",
       "      <td>1</td>\n",
       "      <td>...</td>\n",
       "      <td>Regular customer</td>\n",
       "      <td>Linda</td>\n",
       "      <td>Nguyen</td>\n",
       "      <td>Female</td>\n",
       "      <td>Alabama</td>\n",
       "      <td>31</td>\n",
       "      <td>2/17/2019</td>\n",
       "      <td>3</td>\n",
       "      <td>married</td>\n",
       "      <td>40423</td>\n",
       "    </tr>\n",
       "    <tr>\n",
       "      <th>3</th>\n",
       "      <td>2254736</td>\n",
       "      <td>1</td>\n",
       "      <td>prior</td>\n",
       "      <td>4</td>\n",
       "      <td>4</td>\n",
       "      <td>7</td>\n",
       "      <td>29.0</td>\n",
       "      <td>196</td>\n",
       "      <td>1</td>\n",
       "      <td>1</td>\n",
       "      <td>...</td>\n",
       "      <td>Regular customer</td>\n",
       "      <td>Linda</td>\n",
       "      <td>Nguyen</td>\n",
       "      <td>Female</td>\n",
       "      <td>Alabama</td>\n",
       "      <td>31</td>\n",
       "      <td>2/17/2019</td>\n",
       "      <td>3</td>\n",
       "      <td>married</td>\n",
       "      <td>40423</td>\n",
       "    </tr>\n",
       "    <tr>\n",
       "      <th>4</th>\n",
       "      <td>431534</td>\n",
       "      <td>1</td>\n",
       "      <td>prior</td>\n",
       "      <td>5</td>\n",
       "      <td>4</td>\n",
       "      <td>15</td>\n",
       "      <td>28.0</td>\n",
       "      <td>196</td>\n",
       "      <td>1</td>\n",
       "      <td>1</td>\n",
       "      <td>...</td>\n",
       "      <td>Regular customer</td>\n",
       "      <td>Linda</td>\n",
       "      <td>Nguyen</td>\n",
       "      <td>Female</td>\n",
       "      <td>Alabama</td>\n",
       "      <td>31</td>\n",
       "      <td>2/17/2019</td>\n",
       "      <td>3</td>\n",
       "      <td>married</td>\n",
       "      <td>40423</td>\n",
       "    </tr>\n",
       "  </tbody>\n",
       "</table>\n",
       "<p>5 rows × 34 columns</p>\n",
       "</div>"
      ],
      "text/plain": [
       "   order_id  user_id eval_set  order_number  order_dow  order_hour_of_day  \\\n",
       "0   2539329        1    prior             1          2                  8   \n",
       "1   2398795        1    prior             2          3                  7   \n",
       "2    473747        1    prior             3          3                 12   \n",
       "3   2254736        1    prior             4          4                  7   \n",
       "4    431534        1    prior             5          4                 15   \n",
       "\n",
       "   days_since_prior_order  product_id  add_to_cart_order  reordered  ...  \\\n",
       "0                     0.0         196                  1          0  ...   \n",
       "1                    15.0         196                  1          1  ...   \n",
       "2                    21.0         196                  1          1  ...   \n",
       "3                    29.0         196                  1          1  ...   \n",
       "4                    28.0         196                  1          1  ...   \n",
       "\n",
       "     frequency_flag First Name  Last Name  Gender    STATE Age date_joined  \\\n",
       "0  Regular customer      Linda     Nguyen  Female  Alabama  31   2/17/2019   \n",
       "1  Regular customer      Linda     Nguyen  Female  Alabama  31   2/17/2019   \n",
       "2  Regular customer      Linda     Nguyen  Female  Alabama  31   2/17/2019   \n",
       "3  Regular customer      Linda     Nguyen  Female  Alabama  31   2/17/2019   \n",
       "4  Regular customer      Linda     Nguyen  Female  Alabama  31   2/17/2019   \n",
       "\n",
       "  n_dependants fam_status  income  \n",
       "0            3    married   40423  \n",
       "1            3    married   40423  \n",
       "2            3    married   40423  \n",
       "3            3    married   40423  \n",
       "4            3    married   40423  \n",
       "\n",
       "[5 rows x 34 columns]"
      ]
     },
     "execution_count": 3,
     "metadata": {},
     "output_type": "execute_result"
    }
   ],
   "source": [
    "df_cust.head()"
   ]
  },
  {
   "cell_type": "markdown",
   "metadata": {},
   "source": [
    "### 2. Since the dataframe includes first and last name of customers, to avoid the PII issues I will drop those columns from the dataframe"
   ]
  },
  {
   "cell_type": "code",
   "execution_count": 4,
   "metadata": {},
   "outputs": [],
   "source": [
    "df_cust_noname = df_cust.drop(['First Name','Last Name'], axis=1)"
   ]
  },
  {
   "cell_type": "code",
   "execution_count": 5,
   "metadata": {},
   "outputs": [
    {
     "data": {
      "text/html": [
       "<div>\n",
       "<style scoped>\n",
       "    .dataframe tbody tr th:only-of-type {\n",
       "        vertical-align: middle;\n",
       "    }\n",
       "\n",
       "    .dataframe tbody tr th {\n",
       "        vertical-align: top;\n",
       "    }\n",
       "\n",
       "    .dataframe thead th {\n",
       "        text-align: right;\n",
       "    }\n",
       "</style>\n",
       "<table border=\"1\" class=\"dataframe\">\n",
       "  <thead>\n",
       "    <tr style=\"text-align: right;\">\n",
       "      <th></th>\n",
       "      <th>order_id</th>\n",
       "      <th>user_id</th>\n",
       "      <th>eval_set</th>\n",
       "      <th>order_number</th>\n",
       "      <th>order_dow</th>\n",
       "      <th>order_hour_of_day</th>\n",
       "      <th>days_since_prior_order</th>\n",
       "      <th>product_id</th>\n",
       "      <th>add_to_cart_order</th>\n",
       "      <th>reordered</th>\n",
       "      <th>...</th>\n",
       "      <th>spending_flag</th>\n",
       "      <th>median_days</th>\n",
       "      <th>frequency_flag</th>\n",
       "      <th>Gender</th>\n",
       "      <th>STATE</th>\n",
       "      <th>Age</th>\n",
       "      <th>date_joined</th>\n",
       "      <th>n_dependants</th>\n",
       "      <th>fam_status</th>\n",
       "      <th>income</th>\n",
       "    </tr>\n",
       "  </thead>\n",
       "  <tbody>\n",
       "    <tr>\n",
       "      <th>0</th>\n",
       "      <td>2539329</td>\n",
       "      <td>1</td>\n",
       "      <td>prior</td>\n",
       "      <td>1</td>\n",
       "      <td>2</td>\n",
       "      <td>8</td>\n",
       "      <td>0.0</td>\n",
       "      <td>196</td>\n",
       "      <td>1</td>\n",
       "      <td>0</td>\n",
       "      <td>...</td>\n",
       "      <td>Low spender</td>\n",
       "      <td>20.0</td>\n",
       "      <td>Regular customer</td>\n",
       "      <td>Female</td>\n",
       "      <td>Alabama</td>\n",
       "      <td>31</td>\n",
       "      <td>2/17/2019</td>\n",
       "      <td>3</td>\n",
       "      <td>married</td>\n",
       "      <td>40423</td>\n",
       "    </tr>\n",
       "    <tr>\n",
       "      <th>1</th>\n",
       "      <td>2398795</td>\n",
       "      <td>1</td>\n",
       "      <td>prior</td>\n",
       "      <td>2</td>\n",
       "      <td>3</td>\n",
       "      <td>7</td>\n",
       "      <td>15.0</td>\n",
       "      <td>196</td>\n",
       "      <td>1</td>\n",
       "      <td>1</td>\n",
       "      <td>...</td>\n",
       "      <td>Low spender</td>\n",
       "      <td>20.0</td>\n",
       "      <td>Regular customer</td>\n",
       "      <td>Female</td>\n",
       "      <td>Alabama</td>\n",
       "      <td>31</td>\n",
       "      <td>2/17/2019</td>\n",
       "      <td>3</td>\n",
       "      <td>married</td>\n",
       "      <td>40423</td>\n",
       "    </tr>\n",
       "    <tr>\n",
       "      <th>2</th>\n",
       "      <td>473747</td>\n",
       "      <td>1</td>\n",
       "      <td>prior</td>\n",
       "      <td>3</td>\n",
       "      <td>3</td>\n",
       "      <td>12</td>\n",
       "      <td>21.0</td>\n",
       "      <td>196</td>\n",
       "      <td>1</td>\n",
       "      <td>1</td>\n",
       "      <td>...</td>\n",
       "      <td>Low spender</td>\n",
       "      <td>20.0</td>\n",
       "      <td>Regular customer</td>\n",
       "      <td>Female</td>\n",
       "      <td>Alabama</td>\n",
       "      <td>31</td>\n",
       "      <td>2/17/2019</td>\n",
       "      <td>3</td>\n",
       "      <td>married</td>\n",
       "      <td>40423</td>\n",
       "    </tr>\n",
       "    <tr>\n",
       "      <th>3</th>\n",
       "      <td>2254736</td>\n",
       "      <td>1</td>\n",
       "      <td>prior</td>\n",
       "      <td>4</td>\n",
       "      <td>4</td>\n",
       "      <td>7</td>\n",
       "      <td>29.0</td>\n",
       "      <td>196</td>\n",
       "      <td>1</td>\n",
       "      <td>1</td>\n",
       "      <td>...</td>\n",
       "      <td>Low spender</td>\n",
       "      <td>20.0</td>\n",
       "      <td>Regular customer</td>\n",
       "      <td>Female</td>\n",
       "      <td>Alabama</td>\n",
       "      <td>31</td>\n",
       "      <td>2/17/2019</td>\n",
       "      <td>3</td>\n",
       "      <td>married</td>\n",
       "      <td>40423</td>\n",
       "    </tr>\n",
       "    <tr>\n",
       "      <th>4</th>\n",
       "      <td>431534</td>\n",
       "      <td>1</td>\n",
       "      <td>prior</td>\n",
       "      <td>5</td>\n",
       "      <td>4</td>\n",
       "      <td>15</td>\n",
       "      <td>28.0</td>\n",
       "      <td>196</td>\n",
       "      <td>1</td>\n",
       "      <td>1</td>\n",
       "      <td>...</td>\n",
       "      <td>Low spender</td>\n",
       "      <td>20.0</td>\n",
       "      <td>Regular customer</td>\n",
       "      <td>Female</td>\n",
       "      <td>Alabama</td>\n",
       "      <td>31</td>\n",
       "      <td>2/17/2019</td>\n",
       "      <td>3</td>\n",
       "      <td>married</td>\n",
       "      <td>40423</td>\n",
       "    </tr>\n",
       "  </tbody>\n",
       "</table>\n",
       "<p>5 rows × 32 columns</p>\n",
       "</div>"
      ],
      "text/plain": [
       "   order_id  user_id eval_set  order_number  order_dow  order_hour_of_day  \\\n",
       "0   2539329        1    prior             1          2                  8   \n",
       "1   2398795        1    prior             2          3                  7   \n",
       "2    473747        1    prior             3          3                 12   \n",
       "3   2254736        1    prior             4          4                  7   \n",
       "4    431534        1    prior             5          4                 15   \n",
       "\n",
       "   days_since_prior_order  product_id  add_to_cart_order  reordered  ...  \\\n",
       "0                     0.0         196                  1          0  ...   \n",
       "1                    15.0         196                  1          1  ...   \n",
       "2                    21.0         196                  1          1  ...   \n",
       "3                    29.0         196                  1          1  ...   \n",
       "4                    28.0         196                  1          1  ...   \n",
       "\n",
       "  spending_flag median_days    frequency_flag  Gender    STATE Age  \\\n",
       "0   Low spender        20.0  Regular customer  Female  Alabama  31   \n",
       "1   Low spender        20.0  Regular customer  Female  Alabama  31   \n",
       "2   Low spender        20.0  Regular customer  Female  Alabama  31   \n",
       "3   Low spender        20.0  Regular customer  Female  Alabama  31   \n",
       "4   Low spender        20.0  Regular customer  Female  Alabama  31   \n",
       "\n",
       "  date_joined n_dependants fam_status  income  \n",
       "0   2/17/2019            3    married   40423  \n",
       "1   2/17/2019            3    married   40423  \n",
       "2   2/17/2019            3    married   40423  \n",
       "3   2/17/2019            3    married   40423  \n",
       "4   2/17/2019            3    married   40423  \n",
       "\n",
       "[5 rows x 32 columns]"
      ]
     },
     "execution_count": 5,
     "metadata": {},
     "output_type": "execute_result"
    }
   ],
   "source": [
    "df_cust_noname.head()"
   ]
  },
  {
   "cell_type": "markdown",
   "metadata": {},
   "source": [
    "### 3. Adding a column 'region' and comparing the spending per region"
   ]
  },
  {
   "cell_type": "code",
   "execution_count": 6,
   "metadata": {},
   "outputs": [],
   "source": [
    "Northeast = ['Maine', 'New Hapmshire', 'Vermont', 'Massachusetts', 'Rhode Island', 'Connecticut', 'New York', \n",
    "             'Pennsylvania', 'New Jersey']"
   ]
  },
  {
   "cell_type": "code",
   "execution_count": 7,
   "metadata": {},
   "outputs": [],
   "source": [
    "Midwest = ['Wisconsin', 'Michigan', 'Illinois', 'Indiana', 'Ohio', 'North Dakota', 'South Dakota', 'Nebraska', 'Kansas', \n",
    "           'Minnesota', 'Iowa', 'Missouri']"
   ]
  },
  {
   "cell_type": "code",
   "execution_count": 8,
   "metadata": {},
   "outputs": [],
   "source": [
    "South = ['Delaware', 'Maryland', 'District of Columbia', 'Virginia', 'West Virginia', 'North Carolina', 'South Carolina',\n",
    "        'Georgia', 'Florida', 'Kentucky', 'Tennessee', 'Mississippi', 'Alabama', 'Oklahoma', 'Texas', 'Arkansas', 'Louisiana']"
   ]
  },
  {
   "cell_type": "code",
   "execution_count": 9,
   "metadata": {},
   "outputs": [],
   "source": [
    "West = ['Idaho', 'Montana', 'Wyoming', 'Nevada', 'Utah', 'Colorado', 'Arizona', 'New Mexico', 'Alaska', 'Washington', \n",
    "        'Oregon', 'California', 'Hawaii']"
   ]
  },
  {
   "cell_type": "code",
   "execution_count": 10,
   "metadata": {},
   "outputs": [],
   "source": [
    "region =[]\n",
    "\n",
    "for value in df_cust_noname['STATE']:\n",
    "    if (value in West): region.append('West') \n",
    "    elif (value in South): region.append('South')\n",
    "    elif (value in Midwest): region.append('Midwest')\n",
    "    elif (value in Northeast): region.append('Northeast')\n",
    "    else: region.append('Other')\n",
    "        "
   ]
  },
  {
   "cell_type": "code",
   "execution_count": 11,
   "metadata": {},
   "outputs": [],
   "source": [
    "df_cust_noname['Region'] = region"
   ]
  },
  {
   "cell_type": "code",
   "execution_count": 12,
   "metadata": {},
   "outputs": [
    {
     "data": {
      "text/html": [
       "<div>\n",
       "<style scoped>\n",
       "    .dataframe tbody tr th:only-of-type {\n",
       "        vertical-align: middle;\n",
       "    }\n",
       "\n",
       "    .dataframe tbody tr th {\n",
       "        vertical-align: top;\n",
       "    }\n",
       "\n",
       "    .dataframe thead th {\n",
       "        text-align: right;\n",
       "    }\n",
       "</style>\n",
       "<table border=\"1\" class=\"dataframe\">\n",
       "  <thead>\n",
       "    <tr style=\"text-align: right;\">\n",
       "      <th></th>\n",
       "      <th>order_id</th>\n",
       "      <th>user_id</th>\n",
       "      <th>eval_set</th>\n",
       "      <th>order_number</th>\n",
       "      <th>order_dow</th>\n",
       "      <th>order_hour_of_day</th>\n",
       "      <th>days_since_prior_order</th>\n",
       "      <th>product_id</th>\n",
       "      <th>add_to_cart_order</th>\n",
       "      <th>reordered</th>\n",
       "      <th>...</th>\n",
       "      <th>median_days</th>\n",
       "      <th>frequency_flag</th>\n",
       "      <th>Gender</th>\n",
       "      <th>STATE</th>\n",
       "      <th>Age</th>\n",
       "      <th>date_joined</th>\n",
       "      <th>n_dependants</th>\n",
       "      <th>fam_status</th>\n",
       "      <th>income</th>\n",
       "      <th>Region</th>\n",
       "    </tr>\n",
       "  </thead>\n",
       "  <tbody>\n",
       "    <tr>\n",
       "      <th>0</th>\n",
       "      <td>2539329</td>\n",
       "      <td>1</td>\n",
       "      <td>prior</td>\n",
       "      <td>1</td>\n",
       "      <td>2</td>\n",
       "      <td>8</td>\n",
       "      <td>0.0</td>\n",
       "      <td>196</td>\n",
       "      <td>1</td>\n",
       "      <td>0</td>\n",
       "      <td>...</td>\n",
       "      <td>20.0</td>\n",
       "      <td>Regular customer</td>\n",
       "      <td>Female</td>\n",
       "      <td>Alabama</td>\n",
       "      <td>31</td>\n",
       "      <td>2/17/2019</td>\n",
       "      <td>3</td>\n",
       "      <td>married</td>\n",
       "      <td>40423</td>\n",
       "      <td>South</td>\n",
       "    </tr>\n",
       "    <tr>\n",
       "      <th>1</th>\n",
       "      <td>2398795</td>\n",
       "      <td>1</td>\n",
       "      <td>prior</td>\n",
       "      <td>2</td>\n",
       "      <td>3</td>\n",
       "      <td>7</td>\n",
       "      <td>15.0</td>\n",
       "      <td>196</td>\n",
       "      <td>1</td>\n",
       "      <td>1</td>\n",
       "      <td>...</td>\n",
       "      <td>20.0</td>\n",
       "      <td>Regular customer</td>\n",
       "      <td>Female</td>\n",
       "      <td>Alabama</td>\n",
       "      <td>31</td>\n",
       "      <td>2/17/2019</td>\n",
       "      <td>3</td>\n",
       "      <td>married</td>\n",
       "      <td>40423</td>\n",
       "      <td>South</td>\n",
       "    </tr>\n",
       "    <tr>\n",
       "      <th>2</th>\n",
       "      <td>473747</td>\n",
       "      <td>1</td>\n",
       "      <td>prior</td>\n",
       "      <td>3</td>\n",
       "      <td>3</td>\n",
       "      <td>12</td>\n",
       "      <td>21.0</td>\n",
       "      <td>196</td>\n",
       "      <td>1</td>\n",
       "      <td>1</td>\n",
       "      <td>...</td>\n",
       "      <td>20.0</td>\n",
       "      <td>Regular customer</td>\n",
       "      <td>Female</td>\n",
       "      <td>Alabama</td>\n",
       "      <td>31</td>\n",
       "      <td>2/17/2019</td>\n",
       "      <td>3</td>\n",
       "      <td>married</td>\n",
       "      <td>40423</td>\n",
       "      <td>South</td>\n",
       "    </tr>\n",
       "    <tr>\n",
       "      <th>3</th>\n",
       "      <td>2254736</td>\n",
       "      <td>1</td>\n",
       "      <td>prior</td>\n",
       "      <td>4</td>\n",
       "      <td>4</td>\n",
       "      <td>7</td>\n",
       "      <td>29.0</td>\n",
       "      <td>196</td>\n",
       "      <td>1</td>\n",
       "      <td>1</td>\n",
       "      <td>...</td>\n",
       "      <td>20.0</td>\n",
       "      <td>Regular customer</td>\n",
       "      <td>Female</td>\n",
       "      <td>Alabama</td>\n",
       "      <td>31</td>\n",
       "      <td>2/17/2019</td>\n",
       "      <td>3</td>\n",
       "      <td>married</td>\n",
       "      <td>40423</td>\n",
       "      <td>South</td>\n",
       "    </tr>\n",
       "    <tr>\n",
       "      <th>4</th>\n",
       "      <td>431534</td>\n",
       "      <td>1</td>\n",
       "      <td>prior</td>\n",
       "      <td>5</td>\n",
       "      <td>4</td>\n",
       "      <td>15</td>\n",
       "      <td>28.0</td>\n",
       "      <td>196</td>\n",
       "      <td>1</td>\n",
       "      <td>1</td>\n",
       "      <td>...</td>\n",
       "      <td>20.0</td>\n",
       "      <td>Regular customer</td>\n",
       "      <td>Female</td>\n",
       "      <td>Alabama</td>\n",
       "      <td>31</td>\n",
       "      <td>2/17/2019</td>\n",
       "      <td>3</td>\n",
       "      <td>married</td>\n",
       "      <td>40423</td>\n",
       "      <td>South</td>\n",
       "    </tr>\n",
       "  </tbody>\n",
       "</table>\n",
       "<p>5 rows × 33 columns</p>\n",
       "</div>"
      ],
      "text/plain": [
       "   order_id  user_id eval_set  order_number  order_dow  order_hour_of_day  \\\n",
       "0   2539329        1    prior             1          2                  8   \n",
       "1   2398795        1    prior             2          3                  7   \n",
       "2    473747        1    prior             3          3                 12   \n",
       "3   2254736        1    prior             4          4                  7   \n",
       "4    431534        1    prior             5          4                 15   \n",
       "\n",
       "   days_since_prior_order  product_id  add_to_cart_order  reordered  ...  \\\n",
       "0                     0.0         196                  1          0  ...   \n",
       "1                    15.0         196                  1          1  ...   \n",
       "2                    21.0         196                  1          1  ...   \n",
       "3                    29.0         196                  1          1  ...   \n",
       "4                    28.0         196                  1          1  ...   \n",
       "\n",
       "  median_days    frequency_flag  Gender    STATE  Age date_joined  \\\n",
       "0        20.0  Regular customer  Female  Alabama   31   2/17/2019   \n",
       "1        20.0  Regular customer  Female  Alabama   31   2/17/2019   \n",
       "2        20.0  Regular customer  Female  Alabama   31   2/17/2019   \n",
       "3        20.0  Regular customer  Female  Alabama   31   2/17/2019   \n",
       "4        20.0  Regular customer  Female  Alabama   31   2/17/2019   \n",
       "\n",
       "  n_dependants fam_status income  Region  \n",
       "0            3    married  40423   South  \n",
       "1            3    married  40423   South  \n",
       "2            3    married  40423   South  \n",
       "3            3    married  40423   South  \n",
       "4            3    married  40423   South  \n",
       "\n",
       "[5 rows x 33 columns]"
      ]
     },
     "execution_count": 12,
     "metadata": {},
     "output_type": "execute_result"
    }
   ],
   "source": [
    "df_cust_noname.head()"
   ]
  },
  {
   "cell_type": "code",
   "execution_count": 13,
   "metadata": {},
   "outputs": [
    {
     "data": {
      "text/plain": [
       "South        2622243\n",
       "West         1982424\n",
       "Midwest      1817547\n",
       "Northeast    1252968\n",
       "Other         144278\n",
       "Name: Region, dtype: int64"
      ]
     },
     "execution_count": 13,
     "metadata": {},
     "output_type": "execute_result"
    }
   ],
   "source": [
    "df_cust_noname['Region'].value_counts(dropna=False)"
   ]
  },
  {
   "cell_type": "code",
   "execution_count": 14,
   "metadata": {},
   "outputs": [
    {
     "data": {
      "text/plain": [
       "7819460"
      ]
     },
     "execution_count": 14,
     "metadata": {},
     "output_type": "execute_result"
    }
   ],
   "source": [
    "df_cust_noname['STATE'].count()"
   ]
  },
  {
   "cell_type": "code",
   "execution_count": 15,
   "metadata": {},
   "outputs": [
    {
     "name": "stdout",
     "output_type": "stream",
     "text": [
      "<class 'pandas.core.frame.DataFrame'>\n",
      "Int64Index: 7819460 entries, 0 to 7819459\n",
      "Data columns (total 33 columns):\n",
      " #   Column                  Dtype  \n",
      "---  ------                  -----  \n",
      " 0   order_id                int64  \n",
      " 1   user_id                 int64  \n",
      " 2   eval_set                object \n",
      " 3   order_number            int64  \n",
      " 4   order_dow               int64  \n",
      " 5   order_hour_of_day       int64  \n",
      " 6   days_since_prior_order  float64\n",
      " 7   product_id              int64  \n",
      " 8   add_to_cart_order       int64  \n",
      " 9   reordered               int64  \n",
      " 10  _merge                  object \n",
      " 11  product_name            object \n",
      " 12  aisle_id                int64  \n",
      " 13  department_id           int64  \n",
      " 14  prices                  float64\n",
      " 15  price_range_loc         object \n",
      " 16  busiest_day             object \n",
      " 17  busiest_days            object \n",
      " 18  busiest_period_of_day   object \n",
      " 19  max_order               int64  \n",
      " 20  loyalty_flag            object \n",
      " 21  mean_spend              float64\n",
      " 22  spending_flag           object \n",
      " 23  median_days             float64\n",
      " 24  frequency_flag          object \n",
      " 25  Gender                  object \n",
      " 26  STATE                   object \n",
      " 27  Age                     int64  \n",
      " 28  date_joined             object \n",
      " 29  n_dependants            int64  \n",
      " 30  fam_status              object \n",
      " 31  income                  int64  \n",
      " 32  Region                  object \n",
      "dtypes: float64(4), int64(14), object(15)\n",
      "memory usage: 2.0+ GB\n"
     ]
    }
   ],
   "source": [
    "df_cust_noname.info()"
   ]
  },
  {
   "cell_type": "code",
   "execution_count": 16,
   "metadata": {},
   "outputs": [],
   "source": [
    "crosstab = pd.crosstab(df_cust_noname['Region'],df_cust_noname['spending_flag'], dropna=False)"
   ]
  },
  {
   "cell_type": "code",
   "execution_count": 17,
   "metadata": {},
   "outputs": [],
   "source": [
    "crosstab.to_clipboard()"
   ]
  },
  {
   "cell_type": "code",
   "execution_count": 18,
   "metadata": {},
   "outputs": [
    {
     "data": {
      "text/html": [
       "<div>\n",
       "<style scoped>\n",
       "    .dataframe tbody tr th:only-of-type {\n",
       "        vertical-align: middle;\n",
       "    }\n",
       "\n",
       "    .dataframe tbody tr th {\n",
       "        vertical-align: top;\n",
       "    }\n",
       "\n",
       "    .dataframe thead th {\n",
       "        text-align: right;\n",
       "    }\n",
       "</style>\n",
       "<table border=\"1\" class=\"dataframe\">\n",
       "  <thead>\n",
       "    <tr style=\"text-align: right;\">\n",
       "      <th>spending_flag</th>\n",
       "      <th>High spender</th>\n",
       "      <th>Low spender</th>\n",
       "    </tr>\n",
       "    <tr>\n",
       "      <th>Region</th>\n",
       "      <th></th>\n",
       "      <th></th>\n",
       "    </tr>\n",
       "  </thead>\n",
       "  <tbody>\n",
       "    <tr>\n",
       "      <th>Midwest</th>\n",
       "      <td>31054</td>\n",
       "      <td>1786493</td>\n",
       "    </tr>\n",
       "    <tr>\n",
       "      <th>Northeast</th>\n",
       "      <td>23536</td>\n",
       "      <td>1229432</td>\n",
       "    </tr>\n",
       "    <tr>\n",
       "      <th>Other</th>\n",
       "      <td>2073</td>\n",
       "      <td>142205</td>\n",
       "    </tr>\n",
       "    <tr>\n",
       "      <th>South</th>\n",
       "      <td>49730</td>\n",
       "      <td>2572513</td>\n",
       "    </tr>\n",
       "    <tr>\n",
       "      <th>West</th>\n",
       "      <td>37345</td>\n",
       "      <td>1945079</td>\n",
       "    </tr>\n",
       "  </tbody>\n",
       "</table>\n",
       "</div>"
      ],
      "text/plain": [
       "spending_flag  High spender  Low spender\n",
       "Region                                  \n",
       "Midwest               31054      1786493\n",
       "Northeast             23536      1229432\n",
       "Other                  2073       142205\n",
       "South                 49730      2572513\n",
       "West                  37345      1945079"
      ]
     },
     "execution_count": 18,
     "metadata": {},
     "output_type": "execute_result"
    }
   ],
   "source": [
    "crosstab"
   ]
  },
  {
   "cell_type": "markdown",
   "metadata": {},
   "source": [
    "The spending habits seem similar in different regions."
   ]
  },
  {
   "cell_type": "markdown",
   "metadata": {},
   "source": [
    "### 4. Identifying low activity customers and alocating them to a different datafarame"
   ]
  },
  {
   "cell_type": "code",
   "execution_count": 19,
   "metadata": {},
   "outputs": [],
   "source": [
    "df_count=df_cust_noname.groupby('user_id').agg({'order_number':['count']})"
   ]
  },
  {
   "cell_type": "code",
   "execution_count": 20,
   "metadata": {},
   "outputs": [
    {
     "data": {
      "text/plain": [
       "<bound method DataFrame.info of         order_number\n",
       "               count\n",
       "user_id             \n",
       "1                 59\n",
       "2                195\n",
       "3                 88\n",
       "4                 18\n",
       "5                 37\n",
       "...              ...\n",
       "49665             56\n",
       "49666             47\n",
       "49667            113\n",
       "49668             25\n",
       "49669              8\n",
       "\n",
       "[49669 rows x 1 columns]>"
      ]
     },
     "execution_count": 20,
     "metadata": {},
     "output_type": "execute_result"
    }
   ],
   "source": [
    "df_count.info"
   ]
  },
  {
   "cell_type": "code",
   "execution_count": 21,
   "metadata": {},
   "outputs": [
    {
     "data": {
      "text/html": [
       "<div>\n",
       "<style scoped>\n",
       "    .dataframe tbody tr th:only-of-type {\n",
       "        vertical-align: middle;\n",
       "    }\n",
       "\n",
       "    .dataframe tbody tr th {\n",
       "        vertical-align: top;\n",
       "    }\n",
       "\n",
       "    .dataframe thead tr th {\n",
       "        text-align: left;\n",
       "    }\n",
       "\n",
       "    .dataframe thead tr:last-of-type th {\n",
       "        text-align: right;\n",
       "    }\n",
       "</style>\n",
       "<table border=\"1\" class=\"dataframe\">\n",
       "  <thead>\n",
       "    <tr>\n",
       "      <th></th>\n",
       "      <th>order_number</th>\n",
       "    </tr>\n",
       "    <tr>\n",
       "      <th></th>\n",
       "      <th>count</th>\n",
       "    </tr>\n",
       "    <tr>\n",
       "      <th>user_id</th>\n",
       "      <th></th>\n",
       "    </tr>\n",
       "  </thead>\n",
       "  <tbody>\n",
       "    <tr>\n",
       "      <th>1</th>\n",
       "      <td>59</td>\n",
       "    </tr>\n",
       "    <tr>\n",
       "      <th>2</th>\n",
       "      <td>195</td>\n",
       "    </tr>\n",
       "    <tr>\n",
       "      <th>3</th>\n",
       "      <td>88</td>\n",
       "    </tr>\n",
       "    <tr>\n",
       "      <th>4</th>\n",
       "      <td>18</td>\n",
       "    </tr>\n",
       "    <tr>\n",
       "      <th>5</th>\n",
       "      <td>37</td>\n",
       "    </tr>\n",
       "  </tbody>\n",
       "</table>\n",
       "</div>"
      ],
      "text/plain": [
       "        order_number\n",
       "               count\n",
       "user_id             \n",
       "1                 59\n",
       "2                195\n",
       "3                 88\n",
       "4                 18\n",
       "5                 37"
      ]
     },
     "execution_count": 21,
     "metadata": {},
     "output_type": "execute_result"
    }
   ],
   "source": [
    "df_count.head()"
   ]
  },
  {
   "cell_type": "code",
   "execution_count": 22,
   "metadata": {},
   "outputs": [
    {
     "data": {
      "text/plain": [
       "[('order_number', 'count')]"
      ]
     },
     "execution_count": 22,
     "metadata": {},
     "output_type": "execute_result"
    }
   ],
   "source": [
    "list(df_count.columns)"
   ]
  },
  {
   "cell_type": "code",
   "execution_count": 23,
   "metadata": {},
   "outputs": [
    {
     "name": "stderr",
     "output_type": "stream",
     "text": [
      "C:\\Users\\kirat\\anaconda3\\lib\\site-packages\\pandas\\core\\reshape\\merge.py:618: UserWarning: merging between different levels can give an unintended result (1 levels on the left, 2 on the right)\n",
      "  warnings.warn(msg, UserWarning)\n"
     ]
    }
   ],
   "source": [
    "df_cust_noname = df_cust_noname.join(df_count, on='user_id')"
   ]
  },
  {
   "cell_type": "code",
   "execution_count": 24,
   "metadata": {},
   "outputs": [
    {
     "data": {
      "text/html": [
       "<div>\n",
       "<style scoped>\n",
       "    .dataframe tbody tr th:only-of-type {\n",
       "        vertical-align: middle;\n",
       "    }\n",
       "\n",
       "    .dataframe tbody tr th {\n",
       "        vertical-align: top;\n",
       "    }\n",
       "\n",
       "    .dataframe thead th {\n",
       "        text-align: right;\n",
       "    }\n",
       "</style>\n",
       "<table border=\"1\" class=\"dataframe\">\n",
       "  <thead>\n",
       "    <tr style=\"text-align: right;\">\n",
       "      <th></th>\n",
       "      <th>order_id</th>\n",
       "      <th>user_id</th>\n",
       "      <th>eval_set</th>\n",
       "      <th>order_number</th>\n",
       "      <th>order_dow</th>\n",
       "      <th>order_hour_of_day</th>\n",
       "      <th>days_since_prior_order</th>\n",
       "      <th>product_id</th>\n",
       "      <th>add_to_cart_order</th>\n",
       "      <th>reordered</th>\n",
       "      <th>...</th>\n",
       "      <th>frequency_flag</th>\n",
       "      <th>Gender</th>\n",
       "      <th>STATE</th>\n",
       "      <th>Age</th>\n",
       "      <th>date_joined</th>\n",
       "      <th>n_dependants</th>\n",
       "      <th>fam_status</th>\n",
       "      <th>income</th>\n",
       "      <th>Region</th>\n",
       "      <th>(order_number, count)</th>\n",
       "    </tr>\n",
       "  </thead>\n",
       "  <tbody>\n",
       "    <tr>\n",
       "      <th>0</th>\n",
       "      <td>2539329</td>\n",
       "      <td>1</td>\n",
       "      <td>prior</td>\n",
       "      <td>1</td>\n",
       "      <td>2</td>\n",
       "      <td>8</td>\n",
       "      <td>0.0</td>\n",
       "      <td>196</td>\n",
       "      <td>1</td>\n",
       "      <td>0</td>\n",
       "      <td>...</td>\n",
       "      <td>Regular customer</td>\n",
       "      <td>Female</td>\n",
       "      <td>Alabama</td>\n",
       "      <td>31</td>\n",
       "      <td>2/17/2019</td>\n",
       "      <td>3</td>\n",
       "      <td>married</td>\n",
       "      <td>40423</td>\n",
       "      <td>South</td>\n",
       "      <td>59</td>\n",
       "    </tr>\n",
       "    <tr>\n",
       "      <th>1</th>\n",
       "      <td>2398795</td>\n",
       "      <td>1</td>\n",
       "      <td>prior</td>\n",
       "      <td>2</td>\n",
       "      <td>3</td>\n",
       "      <td>7</td>\n",
       "      <td>15.0</td>\n",
       "      <td>196</td>\n",
       "      <td>1</td>\n",
       "      <td>1</td>\n",
       "      <td>...</td>\n",
       "      <td>Regular customer</td>\n",
       "      <td>Female</td>\n",
       "      <td>Alabama</td>\n",
       "      <td>31</td>\n",
       "      <td>2/17/2019</td>\n",
       "      <td>3</td>\n",
       "      <td>married</td>\n",
       "      <td>40423</td>\n",
       "      <td>South</td>\n",
       "      <td>59</td>\n",
       "    </tr>\n",
       "    <tr>\n",
       "      <th>2</th>\n",
       "      <td>473747</td>\n",
       "      <td>1</td>\n",
       "      <td>prior</td>\n",
       "      <td>3</td>\n",
       "      <td>3</td>\n",
       "      <td>12</td>\n",
       "      <td>21.0</td>\n",
       "      <td>196</td>\n",
       "      <td>1</td>\n",
       "      <td>1</td>\n",
       "      <td>...</td>\n",
       "      <td>Regular customer</td>\n",
       "      <td>Female</td>\n",
       "      <td>Alabama</td>\n",
       "      <td>31</td>\n",
       "      <td>2/17/2019</td>\n",
       "      <td>3</td>\n",
       "      <td>married</td>\n",
       "      <td>40423</td>\n",
       "      <td>South</td>\n",
       "      <td>59</td>\n",
       "    </tr>\n",
       "    <tr>\n",
       "      <th>3</th>\n",
       "      <td>2254736</td>\n",
       "      <td>1</td>\n",
       "      <td>prior</td>\n",
       "      <td>4</td>\n",
       "      <td>4</td>\n",
       "      <td>7</td>\n",
       "      <td>29.0</td>\n",
       "      <td>196</td>\n",
       "      <td>1</td>\n",
       "      <td>1</td>\n",
       "      <td>...</td>\n",
       "      <td>Regular customer</td>\n",
       "      <td>Female</td>\n",
       "      <td>Alabama</td>\n",
       "      <td>31</td>\n",
       "      <td>2/17/2019</td>\n",
       "      <td>3</td>\n",
       "      <td>married</td>\n",
       "      <td>40423</td>\n",
       "      <td>South</td>\n",
       "      <td>59</td>\n",
       "    </tr>\n",
       "    <tr>\n",
       "      <th>4</th>\n",
       "      <td>431534</td>\n",
       "      <td>1</td>\n",
       "      <td>prior</td>\n",
       "      <td>5</td>\n",
       "      <td>4</td>\n",
       "      <td>15</td>\n",
       "      <td>28.0</td>\n",
       "      <td>196</td>\n",
       "      <td>1</td>\n",
       "      <td>1</td>\n",
       "      <td>...</td>\n",
       "      <td>Regular customer</td>\n",
       "      <td>Female</td>\n",
       "      <td>Alabama</td>\n",
       "      <td>31</td>\n",
       "      <td>2/17/2019</td>\n",
       "      <td>3</td>\n",
       "      <td>married</td>\n",
       "      <td>40423</td>\n",
       "      <td>South</td>\n",
       "      <td>59</td>\n",
       "    </tr>\n",
       "  </tbody>\n",
       "</table>\n",
       "<p>5 rows × 34 columns</p>\n",
       "</div>"
      ],
      "text/plain": [
       "   order_id  user_id eval_set  order_number  order_dow  order_hour_of_day  \\\n",
       "0   2539329        1    prior             1          2                  8   \n",
       "1   2398795        1    prior             2          3                  7   \n",
       "2    473747        1    prior             3          3                 12   \n",
       "3   2254736        1    prior             4          4                  7   \n",
       "4    431534        1    prior             5          4                 15   \n",
       "\n",
       "   days_since_prior_order  product_id  add_to_cart_order  reordered  ...  \\\n",
       "0                     0.0         196                  1          0  ...   \n",
       "1                    15.0         196                  1          1  ...   \n",
       "2                    21.0         196                  1          1  ...   \n",
       "3                    29.0         196                  1          1  ...   \n",
       "4                    28.0         196                  1          1  ...   \n",
       "\n",
       "     frequency_flag  Gender    STATE  Age  date_joined n_dependants  \\\n",
       "0  Regular customer  Female  Alabama   31    2/17/2019            3   \n",
       "1  Regular customer  Female  Alabama   31    2/17/2019            3   \n",
       "2  Regular customer  Female  Alabama   31    2/17/2019            3   \n",
       "3  Regular customer  Female  Alabama   31    2/17/2019            3   \n",
       "4  Regular customer  Female  Alabama   31    2/17/2019            3   \n",
       "\n",
       "  fam_status income Region  (order_number, count)  \n",
       "0    married  40423  South                     59  \n",
       "1    married  40423  South                     59  \n",
       "2    married  40423  South                     59  \n",
       "3    married  40423  South                     59  \n",
       "4    married  40423  South                     59  \n",
       "\n",
       "[5 rows x 34 columns]"
      ]
     },
     "execution_count": 24,
     "metadata": {},
     "output_type": "execute_result"
    }
   ],
   "source": [
    "df_cust_noname.head()"
   ]
  },
  {
   "cell_type": "code",
   "execution_count": 25,
   "metadata": {},
   "outputs": [],
   "source": [
    "df_cust_noname.loc[df_cust_noname[('order_number', 'count')]<5,'Low_activity']='Low'"
   ]
  },
  {
   "cell_type": "code",
   "execution_count": 26,
   "metadata": {},
   "outputs": [],
   "source": [
    "df_cust_noname.loc[df_cust_noname[('order_number', 'count')]>=5,'Low_activity']='Not Low'"
   ]
  },
  {
   "cell_type": "code",
   "execution_count": 27,
   "metadata": {},
   "outputs": [
    {
     "data": {
      "text/html": [
       "<div>\n",
       "<style scoped>\n",
       "    .dataframe tbody tr th:only-of-type {\n",
       "        vertical-align: middle;\n",
       "    }\n",
       "\n",
       "    .dataframe tbody tr th {\n",
       "        vertical-align: top;\n",
       "    }\n",
       "\n",
       "    .dataframe thead th {\n",
       "        text-align: right;\n",
       "    }\n",
       "</style>\n",
       "<table border=\"1\" class=\"dataframe\">\n",
       "  <thead>\n",
       "    <tr style=\"text-align: right;\">\n",
       "      <th></th>\n",
       "      <th>order_id</th>\n",
       "      <th>user_id</th>\n",
       "      <th>eval_set</th>\n",
       "      <th>order_number</th>\n",
       "      <th>order_dow</th>\n",
       "      <th>order_hour_of_day</th>\n",
       "      <th>days_since_prior_order</th>\n",
       "      <th>product_id</th>\n",
       "      <th>add_to_cart_order</th>\n",
       "      <th>reordered</th>\n",
       "      <th>...</th>\n",
       "      <th>Gender</th>\n",
       "      <th>STATE</th>\n",
       "      <th>Age</th>\n",
       "      <th>date_joined</th>\n",
       "      <th>n_dependants</th>\n",
       "      <th>fam_status</th>\n",
       "      <th>income</th>\n",
       "      <th>Region</th>\n",
       "      <th>(order_number, count)</th>\n",
       "      <th>Low_activity</th>\n",
       "    </tr>\n",
       "  </thead>\n",
       "  <tbody>\n",
       "    <tr>\n",
       "      <th>0</th>\n",
       "      <td>2539329</td>\n",
       "      <td>1</td>\n",
       "      <td>prior</td>\n",
       "      <td>1</td>\n",
       "      <td>2</td>\n",
       "      <td>8</td>\n",
       "      <td>0.0</td>\n",
       "      <td>196</td>\n",
       "      <td>1</td>\n",
       "      <td>0</td>\n",
       "      <td>...</td>\n",
       "      <td>Female</td>\n",
       "      <td>Alabama</td>\n",
       "      <td>31</td>\n",
       "      <td>2/17/2019</td>\n",
       "      <td>3</td>\n",
       "      <td>married</td>\n",
       "      <td>40423</td>\n",
       "      <td>South</td>\n",
       "      <td>59</td>\n",
       "      <td>Not Low</td>\n",
       "    </tr>\n",
       "    <tr>\n",
       "      <th>1</th>\n",
       "      <td>2398795</td>\n",
       "      <td>1</td>\n",
       "      <td>prior</td>\n",
       "      <td>2</td>\n",
       "      <td>3</td>\n",
       "      <td>7</td>\n",
       "      <td>15.0</td>\n",
       "      <td>196</td>\n",
       "      <td>1</td>\n",
       "      <td>1</td>\n",
       "      <td>...</td>\n",
       "      <td>Female</td>\n",
       "      <td>Alabama</td>\n",
       "      <td>31</td>\n",
       "      <td>2/17/2019</td>\n",
       "      <td>3</td>\n",
       "      <td>married</td>\n",
       "      <td>40423</td>\n",
       "      <td>South</td>\n",
       "      <td>59</td>\n",
       "      <td>Not Low</td>\n",
       "    </tr>\n",
       "    <tr>\n",
       "      <th>2</th>\n",
       "      <td>473747</td>\n",
       "      <td>1</td>\n",
       "      <td>prior</td>\n",
       "      <td>3</td>\n",
       "      <td>3</td>\n",
       "      <td>12</td>\n",
       "      <td>21.0</td>\n",
       "      <td>196</td>\n",
       "      <td>1</td>\n",
       "      <td>1</td>\n",
       "      <td>...</td>\n",
       "      <td>Female</td>\n",
       "      <td>Alabama</td>\n",
       "      <td>31</td>\n",
       "      <td>2/17/2019</td>\n",
       "      <td>3</td>\n",
       "      <td>married</td>\n",
       "      <td>40423</td>\n",
       "      <td>South</td>\n",
       "      <td>59</td>\n",
       "      <td>Not Low</td>\n",
       "    </tr>\n",
       "    <tr>\n",
       "      <th>3</th>\n",
       "      <td>2254736</td>\n",
       "      <td>1</td>\n",
       "      <td>prior</td>\n",
       "      <td>4</td>\n",
       "      <td>4</td>\n",
       "      <td>7</td>\n",
       "      <td>29.0</td>\n",
       "      <td>196</td>\n",
       "      <td>1</td>\n",
       "      <td>1</td>\n",
       "      <td>...</td>\n",
       "      <td>Female</td>\n",
       "      <td>Alabama</td>\n",
       "      <td>31</td>\n",
       "      <td>2/17/2019</td>\n",
       "      <td>3</td>\n",
       "      <td>married</td>\n",
       "      <td>40423</td>\n",
       "      <td>South</td>\n",
       "      <td>59</td>\n",
       "      <td>Not Low</td>\n",
       "    </tr>\n",
       "    <tr>\n",
       "      <th>4</th>\n",
       "      <td>431534</td>\n",
       "      <td>1</td>\n",
       "      <td>prior</td>\n",
       "      <td>5</td>\n",
       "      <td>4</td>\n",
       "      <td>15</td>\n",
       "      <td>28.0</td>\n",
       "      <td>196</td>\n",
       "      <td>1</td>\n",
       "      <td>1</td>\n",
       "      <td>...</td>\n",
       "      <td>Female</td>\n",
       "      <td>Alabama</td>\n",
       "      <td>31</td>\n",
       "      <td>2/17/2019</td>\n",
       "      <td>3</td>\n",
       "      <td>married</td>\n",
       "      <td>40423</td>\n",
       "      <td>South</td>\n",
       "      <td>59</td>\n",
       "      <td>Not Low</td>\n",
       "    </tr>\n",
       "  </tbody>\n",
       "</table>\n",
       "<p>5 rows × 35 columns</p>\n",
       "</div>"
      ],
      "text/plain": [
       "   order_id  user_id eval_set  order_number  order_dow  order_hour_of_day  \\\n",
       "0   2539329        1    prior             1          2                  8   \n",
       "1   2398795        1    prior             2          3                  7   \n",
       "2    473747        1    prior             3          3                 12   \n",
       "3   2254736        1    prior             4          4                  7   \n",
       "4    431534        1    prior             5          4                 15   \n",
       "\n",
       "   days_since_prior_order  product_id  add_to_cart_order  reordered  ...  \\\n",
       "0                     0.0         196                  1          0  ...   \n",
       "1                    15.0         196                  1          1  ...   \n",
       "2                    21.0         196                  1          1  ...   \n",
       "3                    29.0         196                  1          1  ...   \n",
       "4                    28.0         196                  1          1  ...   \n",
       "\n",
       "   Gender    STATE  Age  date_joined  n_dependants fam_status income Region  \\\n",
       "0  Female  Alabama   31    2/17/2019             3    married  40423  South   \n",
       "1  Female  Alabama   31    2/17/2019             3    married  40423  South   \n",
       "2  Female  Alabama   31    2/17/2019             3    married  40423  South   \n",
       "3  Female  Alabama   31    2/17/2019             3    married  40423  South   \n",
       "4  Female  Alabama   31    2/17/2019             3    married  40423  South   \n",
       "\n",
       "  (order_number, count)  Low_activity  \n",
       "0                    59       Not Low  \n",
       "1                    59       Not Low  \n",
       "2                    59       Not Low  \n",
       "3                    59       Not Low  \n",
       "4                    59       Not Low  \n",
       "\n",
       "[5 rows x 35 columns]"
      ]
     },
     "execution_count": 27,
     "metadata": {},
     "output_type": "execute_result"
    }
   ],
   "source": [
    "df_cust_noname.head()"
   ]
  },
  {
   "cell_type": "code",
   "execution_count": 28,
   "metadata": {},
   "outputs": [],
   "source": [
    "df_low=df_cust_noname.loc[df_cust_noname['Low_activity']=='Low']"
   ]
  },
  {
   "cell_type": "code",
   "execution_count": 29,
   "metadata": {},
   "outputs": [],
   "source": [
    "df_regular=df_cust_noname.loc[df_cust_noname['Low_activity'] != 'Low']"
   ]
  },
  {
   "cell_type": "code",
   "execution_count": 30,
   "metadata": {},
   "outputs": [
    {
     "data": {
      "text/html": [
       "<div>\n",
       "<style scoped>\n",
       "    .dataframe tbody tr th:only-of-type {\n",
       "        vertical-align: middle;\n",
       "    }\n",
       "\n",
       "    .dataframe tbody tr th {\n",
       "        vertical-align: top;\n",
       "    }\n",
       "\n",
       "    .dataframe thead th {\n",
       "        text-align: right;\n",
       "    }\n",
       "</style>\n",
       "<table border=\"1\" class=\"dataframe\">\n",
       "  <thead>\n",
       "    <tr style=\"text-align: right;\">\n",
       "      <th></th>\n",
       "      <th>order_id</th>\n",
       "      <th>user_id</th>\n",
       "      <th>eval_set</th>\n",
       "      <th>order_number</th>\n",
       "      <th>order_dow</th>\n",
       "      <th>order_hour_of_day</th>\n",
       "      <th>days_since_prior_order</th>\n",
       "      <th>product_id</th>\n",
       "      <th>add_to_cart_order</th>\n",
       "      <th>reordered</th>\n",
       "      <th>...</th>\n",
       "      <th>Gender</th>\n",
       "      <th>STATE</th>\n",
       "      <th>Age</th>\n",
       "      <th>date_joined</th>\n",
       "      <th>n_dependants</th>\n",
       "      <th>fam_status</th>\n",
       "      <th>income</th>\n",
       "      <th>Region</th>\n",
       "      <th>(order_number, count)</th>\n",
       "      <th>Low_activity</th>\n",
       "    </tr>\n",
       "  </thead>\n",
       "  <tbody>\n",
       "    <tr>\n",
       "      <th>0</th>\n",
       "      <td>2539329</td>\n",
       "      <td>1</td>\n",
       "      <td>prior</td>\n",
       "      <td>1</td>\n",
       "      <td>2</td>\n",
       "      <td>8</td>\n",
       "      <td>0.0</td>\n",
       "      <td>196</td>\n",
       "      <td>1</td>\n",
       "      <td>0</td>\n",
       "      <td>...</td>\n",
       "      <td>Female</td>\n",
       "      <td>Alabama</td>\n",
       "      <td>31</td>\n",
       "      <td>2/17/2019</td>\n",
       "      <td>3</td>\n",
       "      <td>married</td>\n",
       "      <td>40423</td>\n",
       "      <td>South</td>\n",
       "      <td>59</td>\n",
       "      <td>Not Low</td>\n",
       "    </tr>\n",
       "    <tr>\n",
       "      <th>1</th>\n",
       "      <td>2398795</td>\n",
       "      <td>1</td>\n",
       "      <td>prior</td>\n",
       "      <td>2</td>\n",
       "      <td>3</td>\n",
       "      <td>7</td>\n",
       "      <td>15.0</td>\n",
       "      <td>196</td>\n",
       "      <td>1</td>\n",
       "      <td>1</td>\n",
       "      <td>...</td>\n",
       "      <td>Female</td>\n",
       "      <td>Alabama</td>\n",
       "      <td>31</td>\n",
       "      <td>2/17/2019</td>\n",
       "      <td>3</td>\n",
       "      <td>married</td>\n",
       "      <td>40423</td>\n",
       "      <td>South</td>\n",
       "      <td>59</td>\n",
       "      <td>Not Low</td>\n",
       "    </tr>\n",
       "    <tr>\n",
       "      <th>2</th>\n",
       "      <td>473747</td>\n",
       "      <td>1</td>\n",
       "      <td>prior</td>\n",
       "      <td>3</td>\n",
       "      <td>3</td>\n",
       "      <td>12</td>\n",
       "      <td>21.0</td>\n",
       "      <td>196</td>\n",
       "      <td>1</td>\n",
       "      <td>1</td>\n",
       "      <td>...</td>\n",
       "      <td>Female</td>\n",
       "      <td>Alabama</td>\n",
       "      <td>31</td>\n",
       "      <td>2/17/2019</td>\n",
       "      <td>3</td>\n",
       "      <td>married</td>\n",
       "      <td>40423</td>\n",
       "      <td>South</td>\n",
       "      <td>59</td>\n",
       "      <td>Not Low</td>\n",
       "    </tr>\n",
       "    <tr>\n",
       "      <th>3</th>\n",
       "      <td>2254736</td>\n",
       "      <td>1</td>\n",
       "      <td>prior</td>\n",
       "      <td>4</td>\n",
       "      <td>4</td>\n",
       "      <td>7</td>\n",
       "      <td>29.0</td>\n",
       "      <td>196</td>\n",
       "      <td>1</td>\n",
       "      <td>1</td>\n",
       "      <td>...</td>\n",
       "      <td>Female</td>\n",
       "      <td>Alabama</td>\n",
       "      <td>31</td>\n",
       "      <td>2/17/2019</td>\n",
       "      <td>3</td>\n",
       "      <td>married</td>\n",
       "      <td>40423</td>\n",
       "      <td>South</td>\n",
       "      <td>59</td>\n",
       "      <td>Not Low</td>\n",
       "    </tr>\n",
       "    <tr>\n",
       "      <th>4</th>\n",
       "      <td>431534</td>\n",
       "      <td>1</td>\n",
       "      <td>prior</td>\n",
       "      <td>5</td>\n",
       "      <td>4</td>\n",
       "      <td>15</td>\n",
       "      <td>28.0</td>\n",
       "      <td>196</td>\n",
       "      <td>1</td>\n",
       "      <td>1</td>\n",
       "      <td>...</td>\n",
       "      <td>Female</td>\n",
       "      <td>Alabama</td>\n",
       "      <td>31</td>\n",
       "      <td>2/17/2019</td>\n",
       "      <td>3</td>\n",
       "      <td>married</td>\n",
       "      <td>40423</td>\n",
       "      <td>South</td>\n",
       "      <td>59</td>\n",
       "      <td>Not Low</td>\n",
       "    </tr>\n",
       "  </tbody>\n",
       "</table>\n",
       "<p>5 rows × 35 columns</p>\n",
       "</div>"
      ],
      "text/plain": [
       "   order_id  user_id eval_set  order_number  order_dow  order_hour_of_day  \\\n",
       "0   2539329        1    prior             1          2                  8   \n",
       "1   2398795        1    prior             2          3                  7   \n",
       "2    473747        1    prior             3          3                 12   \n",
       "3   2254736        1    prior             4          4                  7   \n",
       "4    431534        1    prior             5          4                 15   \n",
       "\n",
       "   days_since_prior_order  product_id  add_to_cart_order  reordered  ...  \\\n",
       "0                     0.0         196                  1          0  ...   \n",
       "1                    15.0         196                  1          1  ...   \n",
       "2                    21.0         196                  1          1  ...   \n",
       "3                    29.0         196                  1          1  ...   \n",
       "4                    28.0         196                  1          1  ...   \n",
       "\n",
       "   Gender    STATE  Age  date_joined  n_dependants fam_status income Region  \\\n",
       "0  Female  Alabama   31    2/17/2019             3    married  40423  South   \n",
       "1  Female  Alabama   31    2/17/2019             3    married  40423  South   \n",
       "2  Female  Alabama   31    2/17/2019             3    married  40423  South   \n",
       "3  Female  Alabama   31    2/17/2019             3    married  40423  South   \n",
       "4  Female  Alabama   31    2/17/2019             3    married  40423  South   \n",
       "\n",
       "  (order_number, count)  Low_activity  \n",
       "0                    59       Not Low  \n",
       "1                    59       Not Low  \n",
       "2                    59       Not Low  \n",
       "3                    59       Not Low  \n",
       "4                    59       Not Low  \n",
       "\n",
       "[5 rows x 35 columns]"
      ]
     },
     "execution_count": 30,
     "metadata": {},
     "output_type": "execute_result"
    }
   ],
   "source": [
    "df_regular.head()"
   ]
  },
  {
   "cell_type": "code",
   "execution_count": 31,
   "metadata": {},
   "outputs": [
    {
     "data": {
      "text/html": [
       "<div>\n",
       "<style scoped>\n",
       "    .dataframe tbody tr th:only-of-type {\n",
       "        vertical-align: middle;\n",
       "    }\n",
       "\n",
       "    .dataframe tbody tr th {\n",
       "        vertical-align: top;\n",
       "    }\n",
       "\n",
       "    .dataframe thead th {\n",
       "        text-align: right;\n",
       "    }\n",
       "</style>\n",
       "<table border=\"1\" class=\"dataframe\">\n",
       "  <thead>\n",
       "    <tr style=\"text-align: right;\">\n",
       "      <th></th>\n",
       "      <th>order_id</th>\n",
       "      <th>user_id</th>\n",
       "      <th>eval_set</th>\n",
       "      <th>order_number</th>\n",
       "      <th>order_dow</th>\n",
       "      <th>order_hour_of_day</th>\n",
       "      <th>days_since_prior_order</th>\n",
       "      <th>product_id</th>\n",
       "      <th>add_to_cart_order</th>\n",
       "      <th>reordered</th>\n",
       "      <th>...</th>\n",
       "      <th>Gender</th>\n",
       "      <th>STATE</th>\n",
       "      <th>Age</th>\n",
       "      <th>date_joined</th>\n",
       "      <th>n_dependants</th>\n",
       "      <th>fam_status</th>\n",
       "      <th>income</th>\n",
       "      <th>Region</th>\n",
       "      <th>(order_number, count)</th>\n",
       "      <th>Low_activity</th>\n",
       "    </tr>\n",
       "  </thead>\n",
       "  <tbody>\n",
       "    <tr>\n",
       "      <th>1056</th>\n",
       "      <td>1384521</td>\n",
       "      <td>6206</td>\n",
       "      <td>prior</td>\n",
       "      <td>3</td>\n",
       "      <td>3</td>\n",
       "      <td>10</td>\n",
       "      <td>29.0</td>\n",
       "      <td>196</td>\n",
       "      <td>1</td>\n",
       "      <td>0</td>\n",
       "      <td>...</td>\n",
       "      <td>Female</td>\n",
       "      <td>Michigan</td>\n",
       "      <td>40</td>\n",
       "      <td>10/28/2018</td>\n",
       "      <td>1</td>\n",
       "      <td>married</td>\n",
       "      <td>30652</td>\n",
       "      <td>Midwest</td>\n",
       "      <td>4</td>\n",
       "      <td>Low</td>\n",
       "    </tr>\n",
       "    <tr>\n",
       "      <th>1658</th>\n",
       "      <td>2534676</td>\n",
       "      <td>9346</td>\n",
       "      <td>prior</td>\n",
       "      <td>1</td>\n",
       "      <td>1</td>\n",
       "      <td>12</td>\n",
       "      <td>0.0</td>\n",
       "      <td>196</td>\n",
       "      <td>1</td>\n",
       "      <td>0</td>\n",
       "      <td>...</td>\n",
       "      <td>Female</td>\n",
       "      <td>Idaho</td>\n",
       "      <td>42</td>\n",
       "      <td>1/9/2018</td>\n",
       "      <td>2</td>\n",
       "      <td>married</td>\n",
       "      <td>149794</td>\n",
       "      <td>West</td>\n",
       "      <td>4</td>\n",
       "      <td>Low</td>\n",
       "    </tr>\n",
       "    <tr>\n",
       "      <th>1659</th>\n",
       "      <td>1012417</td>\n",
       "      <td>9346</td>\n",
       "      <td>prior</td>\n",
       "      <td>2</td>\n",
       "      <td>1</td>\n",
       "      <td>10</td>\n",
       "      <td>30.0</td>\n",
       "      <td>196</td>\n",
       "      <td>1</td>\n",
       "      <td>1</td>\n",
       "      <td>...</td>\n",
       "      <td>Female</td>\n",
       "      <td>Idaho</td>\n",
       "      <td>42</td>\n",
       "      <td>1/9/2018</td>\n",
       "      <td>2</td>\n",
       "      <td>married</td>\n",
       "      <td>149794</td>\n",
       "      <td>West</td>\n",
       "      <td>4</td>\n",
       "      <td>Low</td>\n",
       "    </tr>\n",
       "    <tr>\n",
       "      <th>1660</th>\n",
       "      <td>2485013</td>\n",
       "      <td>9346</td>\n",
       "      <td>prior</td>\n",
       "      <td>3</td>\n",
       "      <td>4</td>\n",
       "      <td>16</td>\n",
       "      <td>30.0</td>\n",
       "      <td>196</td>\n",
       "      <td>1</td>\n",
       "      <td>1</td>\n",
       "      <td>...</td>\n",
       "      <td>Female</td>\n",
       "      <td>Idaho</td>\n",
       "      <td>42</td>\n",
       "      <td>1/9/2018</td>\n",
       "      <td>2</td>\n",
       "      <td>married</td>\n",
       "      <td>149794</td>\n",
       "      <td>West</td>\n",
       "      <td>4</td>\n",
       "      <td>Low</td>\n",
       "    </tr>\n",
       "    <tr>\n",
       "      <th>1828</th>\n",
       "      <td>318227</td>\n",
       "      <td>10407</td>\n",
       "      <td>prior</td>\n",
       "      <td>2</td>\n",
       "      <td>5</td>\n",
       "      <td>15</td>\n",
       "      <td>2.0</td>\n",
       "      <td>196</td>\n",
       "      <td>1</td>\n",
       "      <td>0</td>\n",
       "      <td>...</td>\n",
       "      <td>Female</td>\n",
       "      <td>Arizona</td>\n",
       "      <td>68</td>\n",
       "      <td>5/28/2019</td>\n",
       "      <td>0</td>\n",
       "      <td>divorced/widowed</td>\n",
       "      <td>51914</td>\n",
       "      <td>West</td>\n",
       "      <td>3</td>\n",
       "      <td>Low</td>\n",
       "    </tr>\n",
       "  </tbody>\n",
       "</table>\n",
       "<p>5 rows × 35 columns</p>\n",
       "</div>"
      ],
      "text/plain": [
       "      order_id  user_id eval_set  order_number  order_dow  order_hour_of_day  \\\n",
       "1056   1384521     6206    prior             3          3                 10   \n",
       "1658   2534676     9346    prior             1          1                 12   \n",
       "1659   1012417     9346    prior             2          1                 10   \n",
       "1660   2485013     9346    prior             3          4                 16   \n",
       "1828    318227    10407    prior             2          5                 15   \n",
       "\n",
       "      days_since_prior_order  product_id  add_to_cart_order  reordered  ...  \\\n",
       "1056                    29.0         196                  1          0  ...   \n",
       "1658                     0.0         196                  1          0  ...   \n",
       "1659                    30.0         196                  1          1  ...   \n",
       "1660                    30.0         196                  1          1  ...   \n",
       "1828                     2.0         196                  1          0  ...   \n",
       "\n",
       "      Gender     STATE  Age  date_joined  n_dependants        fam_status  \\\n",
       "1056  Female  Michigan   40   10/28/2018             1           married   \n",
       "1658  Female     Idaho   42     1/9/2018             2           married   \n",
       "1659  Female     Idaho   42     1/9/2018             2           married   \n",
       "1660  Female     Idaho   42     1/9/2018             2           married   \n",
       "1828  Female   Arizona   68    5/28/2019             0  divorced/widowed   \n",
       "\n",
       "      income   Region (order_number, count)  Low_activity  \n",
       "1056   30652  Midwest                     4           Low  \n",
       "1658  149794     West                     4           Low  \n",
       "1659  149794     West                     4           Low  \n",
       "1660  149794     West                     4           Low  \n",
       "1828   51914     West                     3           Low  \n",
       "\n",
       "[5 rows x 35 columns]"
      ]
     },
     "execution_count": 31,
     "metadata": {},
     "output_type": "execute_result"
    }
   ],
   "source": [
    "df_low.head()"
   ]
  },
  {
   "cell_type": "code",
   "execution_count": 32,
   "metadata": {},
   "outputs": [
    {
     "data": {
      "text/plain": [
       "Low    686\n",
       "Name: Low_activity, dtype: int64"
      ]
     },
     "execution_count": 32,
     "metadata": {},
     "output_type": "execute_result"
    }
   ],
   "source": [
    "#dataframe with low activity customers\n",
    "df_low['Low_activity'].value_counts(dropna=False)"
   ]
  },
  {
   "cell_type": "code",
   "execution_count": 33,
   "metadata": {},
   "outputs": [
    {
     "data": {
      "text/plain": [
       "Not Low    7818774\n",
       "Name: Low_activity, dtype: int64"
      ]
     },
     "execution_count": 33,
     "metadata": {},
     "output_type": "execute_result"
    }
   ],
   "source": [
    "#dataframe with the rest of customers\n",
    "df_regular['Low_activity'].value_counts(dropna=False)"
   ]
  },
  {
   "cell_type": "code",
   "execution_count": 34,
   "metadata": {},
   "outputs": [
    {
     "name": "stderr",
     "output_type": "stream",
     "text": [
      "C:\\Users\\kirat\\anaconda3\\lib\\site-packages\\pandas\\core\\frame.py:4125: SettingWithCopyWarning: \n",
      "A value is trying to be set on a copy of a slice from a DataFrame\n",
      "\n",
      "See the caveats in the documentation: https://pandas.pydata.org/pandas-docs/stable/user_guide/indexing.html#returning-a-view-versus-a-copy\n",
      "  return super().rename(\n"
     ]
    }
   ],
   "source": [
    "df_regular.rename(columns={\"order_dow\": \"order_day_of_week\", \"order_number\": \"order_id\"}, inplace=True)"
   ]
  },
  {
   "cell_type": "code",
   "execution_count": 35,
   "metadata": {},
   "outputs": [
    {
     "data": {
      "text/plain": [
       "<bound method DataFrame.info of          order_id  user_id eval_set  order_id  order_day_of_week  \\\n",
       "0         2539329        1    prior         1                  2   \n",
       "1         2398795        1    prior         2                  3   \n",
       "2          473747        1    prior         3                  3   \n",
       "3         2254736        1    prior         4                  4   \n",
       "4          431534        1    prior         5                  4   \n",
       "...           ...      ...      ...       ...                ...   \n",
       "7819455   1675394    49629    prior         4                  5   \n",
       "7819456   1391969    49634    prior         2                  0   \n",
       "7819457   1726559    49644    prior         4                  0   \n",
       "7819458   2756852    49666    prior         5                  5   \n",
       "7819459    900551    49668    prior         3                  5   \n",
       "\n",
       "         order_hour_of_day  days_since_prior_order  product_id  \\\n",
       "0                        8                     0.0         196   \n",
       "1                        7                    15.0         196   \n",
       "2                       12                    21.0         196   \n",
       "3                        7                    29.0         196   \n",
       "4                       15                    28.0         196   \n",
       "...                    ...                     ...         ...   \n",
       "7819455                 11                     2.0       32359   \n",
       "7819456                  9                    15.0        4696   \n",
       "7819457                 13                     6.0        2875   \n",
       "7819458                 11                    26.0       32543   \n",
       "7819459                 21                    30.0       11806   \n",
       "\n",
       "         add_to_cart_order  reordered  ...  Gender      STATE  Age  \\\n",
       "0                        1          0  ...  Female    Alabama   31   \n",
       "1                        1          1  ...  Female    Alabama   31   \n",
       "2                        1          1  ...  Female    Alabama   31   \n",
       "3                        1          1  ...  Female    Alabama   31   \n",
       "4                        1          1  ...  Female    Alabama   31   \n",
       "...                    ...        ...  ...     ...        ...  ...   \n",
       "7819455                  4          1  ...    Male   Colorado   24   \n",
       "7819456                  1          0  ...    Male    Georgia   76   \n",
       "7819457                 21          0  ...    Male    Montana   69   \n",
       "7819458                  5          0  ...    Male  Tennessee   72   \n",
       "7819459                 17          0  ...    Male       Utah   36   \n",
       "\n",
       "         date_joined  n_dependants        fam_status  income Region  \\\n",
       "0          2/17/2019             3           married   40423  South   \n",
       "1          2/17/2019             3           married   40423  South   \n",
       "2          2/17/2019             3           married   40423  South   \n",
       "3          2/17/2019             3           married   40423  South   \n",
       "4          2/17/2019             3           married   40423  South   \n",
       "...              ...           ...               ...     ...    ...   \n",
       "7819455    9/27/2017             3           married  100653   West   \n",
       "7819456   10/21/2018             3           married  139776  South   \n",
       "7819457    9/21/2018             2           married  105380   West   \n",
       "7819458    7/11/2019             0  divorced/widowed  100640  South   \n",
       "7819459     9/6/2019             3           married   92993   West   \n",
       "\n",
       "        (order_number, count)  Low_activity  \n",
       "0                          59       Not Low  \n",
       "1                          59       Not Low  \n",
       "2                          59       Not Low  \n",
       "3                          59       Not Low  \n",
       "4                          59       Not Low  \n",
       "...                       ...           ...  \n",
       "7819455                    45       Not Low  \n",
       "7819456                    25       Not Low  \n",
       "7819457                    87       Not Low  \n",
       "7819458                    47       Not Low  \n",
       "7819459                    25       Not Low  \n",
       "\n",
       "[7818774 rows x 35 columns]>"
      ]
     },
     "execution_count": 35,
     "metadata": {},
     "output_type": "execute_result"
    }
   ],
   "source": [
    "df_regular.info"
   ]
  },
  {
   "cell_type": "markdown",
   "metadata": {},
   "source": [
    "### 5. Profiling"
   ]
  },
  {
   "cell_type": "markdown",
   "metadata": {},
   "source": [
    "#### Days of the week and hours of the day"
   ]
  },
  {
   "cell_type": "code",
   "execution_count": 36,
   "metadata": {
    "scrolled": true
   },
   "outputs": [
    {
     "data": {
      "image/png": "[encoded data removed]",
      "text/plain": [
       "<Figure size 432x288 with 1 Axes>"
      ]
     },
     "metadata": {
      "needs_background": "light"
     },
     "output_type": "display_data"
    }
   ],
   "source": [
    "#bar graph for the day of the week\n",
    "order_dow=df_regular['order_day_of_week'].value_counts().sort_index().plot.bar()"
   ]
  },
  {
   "cell_type": "code",
   "execution_count": 37,
   "metadata": {},
   "outputs": [],
   "source": [
    "path = r'C:\\Users\\kirat\\Documents\\Career Foundy\\Python\\Instacart Basket Analysis'"
   ]
  },
  {
   "cell_type": "code",
   "execution_count": 38,
   "metadata": {},
   "outputs": [],
   "source": [
    "order_dow.figure.savefig(os.path.join(path, '04 Analysis', 'Visializations','order_dow.png'))"
   ]
  },
  {
   "cell_type": "markdown",
   "metadata": {},
   "source": [
    "According to bar graph, Sunday and Monday are the days with highest number of orders"
   ]
  },
  {
   "cell_type": "code",
   "execution_count": 39,
   "metadata": {},
   "outputs": [
    {
     "data": {
      "image/png": "[encoded data removed]",
      "text/plain": [
       "<Figure size 432x288 with 1 Axes>"
      ]
     },
     "metadata": {
      "needs_background": "light"
     },
     "output_type": "display_data"
    }
   ],
   "source": [
    "#histogram for the number of orders during a 24 hour period\n",
    "histH=df_regular['order_hour_of_day'].plot.hist(bins=50)"
   ]
  },
  {
   "cell_type": "markdown",
   "metadata": {},
   "source": [
    "Histogram shows that the highest number of orders is made 9am-5pm"
   ]
  },
  {
   "cell_type": "markdown",
   "metadata": {},
   "source": [
    "#### Age profiling"
   ]
  },
  {
   "cell_type": "code",
   "execution_count": 40,
   "metadata": {},
   "outputs": [
    {
     "data": {
      "text/plain": [
       "31    134574\n",
       "24    132213\n",
       "42    131163\n",
       "37    131078\n",
       "52    129858\n",
       "       ...  \n",
       "75    112755\n",
       "41    111640\n",
       "61    110959\n",
       "36    110919\n",
       "68    108718\n",
       "Name: Age, Length: 64, dtype: int64"
      ]
     },
     "execution_count": 40,
     "metadata": {},
     "output_type": "execute_result"
    }
   ],
   "source": [
    "df_regular['Age'].value_counts()"
   ]
  },
  {
   "cell_type": "code",
   "execution_count": 41,
   "metadata": {},
   "outputs": [
    {
     "data": {
      "image/png": "[encoded data removed]",
      "text/plain": [
       "<Figure size 432x288 with 1 Axes>"
      ]
     },
     "metadata": {
      "needs_background": "light"
     },
     "output_type": "display_data"
    }
   ],
   "source": [
    "#histogram for Age\n",
    "hist=df_regular['Age'].plot.hist(bins=25)"
   ]
  },
  {
   "cell_type": "markdown",
   "metadata": {},
   "source": [
    "Age is uniformly distributed in the customer database"
   ]
  },
  {
   "cell_type": "code",
   "execution_count": 42,
   "metadata": {},
   "outputs": [
    {
     "data": {
      "text/plain": [
       "count    7.818774e+06\n",
       "mean     4.936821e+01\n",
       "std      1.850271e+01\n",
       "min      1.800000e+01\n",
       "25%      3.300000e+01\n",
       "50%      4.900000e+01\n",
       "75%      6.500000e+01\n",
       "max      8.100000e+01\n",
       "Name: Age, dtype: float64"
      ]
     },
     "execution_count": 42,
     "metadata": {},
     "output_type": "execute_result"
    }
   ],
   "source": [
    "df_regular.Age.describe()"
   ]
  },
  {
   "cell_type": "code",
   "execution_count": 43,
   "metadata": {},
   "outputs": [
    {
     "data": {
      "text/plain": [
       "count    7.818774e+06\n",
       "mean     1.499693e+00\n",
       "std      1.115049e+00\n",
       "min      0.000000e+00\n",
       "25%      1.000000e+00\n",
       "50%      1.000000e+00\n",
       "75%      2.000000e+00\n",
       "max      3.000000e+00\n",
       "Name: n_dependants, dtype: float64"
      ]
     },
     "execution_count": 43,
     "metadata": {},
     "output_type": "execute_result"
    }
   ],
   "source": [
    "df_regular.n_dependants.describe()"
   ]
  },
  {
   "cell_type": "code",
   "execution_count": 44,
   "metadata": {},
   "outputs": [
    {
     "name": "stderr",
     "output_type": "stream",
     "text": [
      "C:\\Users\\kirat\\anaconda3\\lib\\site-packages\\pandas\\core\\indexing.py:845: SettingWithCopyWarning: \n",
      "A value is trying to be set on a copy of a slice from a DataFrame.\n",
      "Try using .loc[row_indexer,col_indexer] = value instead\n",
      "\n",
      "See the caveats in the documentation: https://pandas.pydata.org/pandas-docs/stable/user_guide/indexing.html#returning-a-view-versus-a-copy\n",
      "  self.obj[key] = _infer_fill_value(value)\n",
      "C:\\Users\\kirat\\anaconda3\\lib\\site-packages\\pandas\\core\\indexing.py:966: SettingWithCopyWarning: \n",
      "A value is trying to be set on a copy of a slice from a DataFrame.\n",
      "Try using .loc[row_indexer,col_indexer] = value instead\n",
      "\n",
      "See the caveats in the documentation: https://pandas.pydata.org/pandas-docs/stable/user_guide/indexing.html#returning-a-view-versus-a-copy\n",
      "  self.obj[item] = s\n"
     ]
    }
   ],
   "source": [
    "#quartiles are used to assign age categories\n",
    "df_regular.loc[df_regular['Age']<33,'age_flag']='18-32'"
   ]
  },
  {
   "cell_type": "code",
   "execution_count": 45,
   "metadata": {},
   "outputs": [],
   "source": [
    "df_regular.loc[(df_regular['Age']>=33)&(df_regular['Age']<49),'age_flag']='33-48'"
   ]
  },
  {
   "cell_type": "code",
   "execution_count": 46,
   "metadata": {},
   "outputs": [],
   "source": [
    "df_regular.loc[(df_regular['Age']>=49)&(df_regular['Age']<65),'age_flag']='49-64'"
   ]
  },
  {
   "cell_type": "code",
   "execution_count": 47,
   "metadata": {},
   "outputs": [],
   "source": [
    "df_regular.loc[df_regular['Age']>=65,'age_flag']='65+'"
   ]
  },
  {
   "cell_type": "code",
   "execution_count": 48,
   "metadata": {},
   "outputs": [
    {
     "data": {
      "text/plain": [
       "65+      2061359\n",
       "49-64    1955692\n",
       "33-48    1944731\n",
       "18-32    1856992\n",
       "Name: age_flag, dtype: int64"
      ]
     },
     "execution_count": 48,
     "metadata": {},
     "output_type": "execute_result"
    }
   ],
   "source": [
    "df_regular['age_flag'].value_counts()"
   ]
  },
  {
   "cell_type": "code",
   "execution_count": 49,
   "metadata": {},
   "outputs": [
    {
     "data": {
      "text/html": [
       "<div>\n",
       "<style scoped>\n",
       "    .dataframe tbody tr th:only-of-type {\n",
       "        vertical-align: middle;\n",
       "    }\n",
       "\n",
       "    .dataframe tbody tr th {\n",
       "        vertical-align: top;\n",
       "    }\n",
       "\n",
       "    .dataframe thead th {\n",
       "        text-align: right;\n",
       "    }\n",
       "</style>\n",
       "<table border=\"1\" class=\"dataframe\">\n",
       "  <thead>\n",
       "    <tr style=\"text-align: right;\">\n",
       "      <th>n_dependants</th>\n",
       "      <th>0</th>\n",
       "      <th>1</th>\n",
       "      <th>2</th>\n",
       "      <th>3</th>\n",
       "    </tr>\n",
       "    <tr>\n",
       "      <th>age_flag</th>\n",
       "      <th></th>\n",
       "      <th></th>\n",
       "      <th></th>\n",
       "      <th></th>\n",
       "    </tr>\n",
       "  </thead>\n",
       "  <tbody>\n",
       "    <tr>\n",
       "      <th>18-32</th>\n",
       "      <td>439097</td>\n",
       "      <td>481335</td>\n",
       "      <td>470889</td>\n",
       "      <td>465671</td>\n",
       "    </tr>\n",
       "    <tr>\n",
       "      <th>33-48</th>\n",
       "      <td>495944</td>\n",
       "      <td>511128</td>\n",
       "      <td>475449</td>\n",
       "      <td>462210</td>\n",
       "    </tr>\n",
       "    <tr>\n",
       "      <th>49-64</th>\n",
       "      <td>491205</td>\n",
       "      <td>481671</td>\n",
       "      <td>490710</td>\n",
       "      <td>492106</td>\n",
       "    </tr>\n",
       "    <tr>\n",
       "      <th>65+</th>\n",
       "      <td>511833</td>\n",
       "      <td>506745</td>\n",
       "      <td>517518</td>\n",
       "      <td>525263</td>\n",
       "    </tr>\n",
       "  </tbody>\n",
       "</table>\n",
       "</div>"
      ],
      "text/plain": [
       "n_dependants       0       1       2       3\n",
       "age_flag                                    \n",
       "18-32         439097  481335  470889  465671\n",
       "33-48         495944  511128  475449  462210\n",
       "49-64         491205  481671  490710  492106\n",
       "65+           511833  506745  517518  525263"
      ]
     },
     "execution_count": 49,
     "metadata": {},
     "output_type": "execute_result"
    }
   ],
   "source": [
    "crosstab_age=pd.crosstab(df_regular['age_flag'],df_regular['n_dependants'], dropna=False)\n",
    "crosstab_age"
   ]
  },
  {
   "cell_type": "markdown",
   "metadata": {},
   "source": [
    "#### Departments statistics"
   ]
  },
  {
   "cell_type": "code",
   "execution_count": 50,
   "metadata": {},
   "outputs": [
    {
     "data": {
      "text/plain": [
       "4     2293882\n",
       "16    1301541\n",
       "19     696401\n",
       "7      647271\n",
       "1      534550\n",
       "13     452888\n",
       "3      283014\n",
       "15     258586\n",
       "20     255061\n",
       "9      208877\n",
       "17     179118\n",
       "14     169928\n",
       "12     169914\n",
       "11     109587\n",
       "18      99670\n",
       "6       65203\n",
       "5       36139\n",
       "8       23840\n",
       "21      16327\n",
       "2        8590\n",
       "10       8387\n",
       "Name: department_id, dtype: int64"
      ]
     },
     "execution_count": 50,
     "metadata": {},
     "output_type": "execute_result"
    }
   ],
   "source": [
    "df_regular['department_id'].value_counts()"
   ]
  },
  {
   "cell_type": "code",
   "execution_count": 51,
   "metadata": {},
   "outputs": [
    {
     "data": {
      "image/png": "[encoded data removed]",
      "text/plain": [
       "<Figure size 432x288 with 1 Axes>"
      ]
     },
     "metadata": {
      "needs_background": "light"
     },
     "output_type": "display_data"
    }
   ],
   "source": [
    "bar=df_regular['department_id'].value_counts().sort_index().plot.bar()"
   ]
  },
  {
   "cell_type": "code",
   "execution_count": 52,
   "metadata": {},
   "outputs": [],
   "source": [
    "bar.figure.savefig(os.path.join(path, '04 Analysis','Visializations', 'bar_dep.png'))"
   ]
  },
  {
   "cell_type": "markdown",
   "metadata": {},
   "source": [
    "Department with 4 has the highest number of sales"
   ]
  },
  {
   "cell_type": "markdown",
   "metadata": {},
   "source": [
    "#### Income profiling"
   ]
  },
  {
   "cell_type": "code",
   "execution_count": 53,
   "metadata": {},
   "outputs": [
    {
     "data": {
      "image/png": "[encoded data removed]",
      "text/plain": [
       "<Figure size 432x288 with 1 Axes>"
      ]
     },
     "metadata": {
      "needs_background": "light"
     },
     "output_type": "display_data"
    }
   ],
   "source": [
    "histI=df_regular['income'].plot.hist(bins=25)"
   ]
  },
  {
   "cell_type": "code",
   "execution_count": 54,
   "metadata": {},
   "outputs": [
    {
     "data": {
      "text/plain": [
       "count    7.818774e+06\n",
       "mean     9.903080e+04\n",
       "std      4.327642e+04\n",
       "min      2.598600e+04\n",
       "25%      6.644800e+04\n",
       "50%      9.627000e+04\n",
       "75%      1.270080e+05\n",
       "max      5.777280e+05\n",
       "Name: income, dtype: float64"
      ]
     },
     "execution_count": 54,
     "metadata": {},
     "output_type": "execute_result"
    }
   ],
   "source": [
    "df_regular.income.describe()"
   ]
  },
  {
   "cell_type": "code",
   "execution_count": 55,
   "metadata": {},
   "outputs": [
    {
     "name": "stderr",
     "output_type": "stream",
     "text": [
      "C:\\Users\\kirat\\anaconda3\\lib\\site-packages\\pandas\\core\\indexing.py:845: SettingWithCopyWarning: \n",
      "A value is trying to be set on a copy of a slice from a DataFrame.\n",
      "Try using .loc[row_indexer,col_indexer] = value instead\n",
      "\n",
      "See the caveats in the documentation: https://pandas.pydata.org/pandas-docs/stable/user_guide/indexing.html#returning-a-view-versus-a-copy\n",
      "  self.obj[key] = _infer_fill_value(value)\n",
      "C:\\Users\\kirat\\anaconda3\\lib\\site-packages\\pandas\\core\\indexing.py:966: SettingWithCopyWarning: \n",
      "A value is trying to be set on a copy of a slice from a DataFrame.\n",
      "Try using .loc[row_indexer,col_indexer] = value instead\n",
      "\n",
      "See the caveats in the documentation: https://pandas.pydata.org/pandas-docs/stable/user_guide/indexing.html#returning-a-view-versus-a-copy\n",
      "  self.obj[item] = s\n"
     ]
    }
   ],
   "source": [
    "#income flag is based on standard deviation. The middle is considered to be 1 standard deviation from the mean\n",
    "df_regular.loc[df_regular['income']<55756,'income_flag']='Lower income'"
   ]
  },
  {
   "cell_type": "code",
   "execution_count": 56,
   "metadata": {},
   "outputs": [],
   "source": [
    "df_regular.loc[df_regular['income']>142307, 'income_flag']='Higher income'"
   ]
  },
  {
   "cell_type": "code",
   "execution_count": 57,
   "metadata": {},
   "outputs": [],
   "source": [
    "df_regular.loc[(df_regular['income']>=55756)&(df_regular['income']<=142307), 'income_flag']='Middle income'"
   ]
  },
  {
   "cell_type": "code",
   "execution_count": 58,
   "metadata": {},
   "outputs": [
    {
     "data": {
      "text/html": [
       "<div>\n",
       "<style scoped>\n",
       "    .dataframe tbody tr th:only-of-type {\n",
       "        vertical-align: middle;\n",
       "    }\n",
       "\n",
       "    .dataframe tbody tr th {\n",
       "        vertical-align: top;\n",
       "    }\n",
       "\n",
       "    .dataframe thead th {\n",
       "        text-align: right;\n",
       "    }\n",
       "</style>\n",
       "<table border=\"1\" class=\"dataframe\">\n",
       "  <thead>\n",
       "    <tr style=\"text-align: right;\">\n",
       "      <th>income_flag</th>\n",
       "      <th>Higher income</th>\n",
       "      <th>Lower income</th>\n",
       "      <th>Middle income</th>\n",
       "    </tr>\n",
       "    <tr>\n",
       "      <th>Region</th>\n",
       "      <th></th>\n",
       "      <th></th>\n",
       "      <th></th>\n",
       "    </tr>\n",
       "  </thead>\n",
       "  <tbody>\n",
       "    <tr>\n",
       "      <th>Midwest</th>\n",
       "      <td>304643</td>\n",
       "      <td>284031</td>\n",
       "      <td>1228744</td>\n",
       "    </tr>\n",
       "    <tr>\n",
       "      <th>Northeast</th>\n",
       "      <td>210484</td>\n",
       "      <td>185995</td>\n",
       "      <td>856371</td>\n",
       "    </tr>\n",
       "    <tr>\n",
       "      <th>Other</th>\n",
       "      <td>25234</td>\n",
       "      <td>21829</td>\n",
       "      <td>97201</td>\n",
       "    </tr>\n",
       "    <tr>\n",
       "      <th>South</th>\n",
       "      <td>436688</td>\n",
       "      <td>431158</td>\n",
       "      <td>1754156</td>\n",
       "    </tr>\n",
       "    <tr>\n",
       "      <th>West</th>\n",
       "      <td>341321</td>\n",
       "      <td>296912</td>\n",
       "      <td>1344007</td>\n",
       "    </tr>\n",
       "  </tbody>\n",
       "</table>\n",
       "</div>"
      ],
      "text/plain": [
       "income_flag  Higher income  Lower income  Middle income\n",
       "Region                                                 \n",
       "Midwest             304643        284031        1228744\n",
       "Northeast           210484        185995         856371\n",
       "Other                25234         21829          97201\n",
       "South               436688        431158        1754156\n",
       "West                341321        296912        1344007"
      ]
     },
     "execution_count": 58,
     "metadata": {},
     "output_type": "execute_result"
    }
   ],
   "source": [
    "crosstab_income = pd.crosstab(df_regular['Region'],df_regular['income_flag'], dropna=False)\n",
    "crosstab_income"
   ]
  },
  {
   "cell_type": "code",
   "execution_count": 59,
   "metadata": {},
   "outputs": [],
   "source": [
    "crosstab_income.to_clipboard()"
   ]
  },
  {
   "cell_type": "code",
   "execution_count": 60,
   "metadata": {},
   "outputs": [
    {
     "data": {
      "text/plain": [
       "Index([               'order_id',                 'user_id',\n",
       "                      'eval_set',                'order_id',\n",
       "             'order_day_of_week',       'order_hour_of_day',\n",
       "        'days_since_prior_order',              'product_id',\n",
       "             'add_to_cart_order',               'reordered',\n",
       "                        '_merge',            'product_name',\n",
       "                      'aisle_id',           'department_id',\n",
       "                        'prices',         'price_range_loc',\n",
       "                   'busiest_day',            'busiest_days',\n",
       "         'busiest_period_of_day',               'max_order',\n",
       "                  'loyalty_flag',              'mean_spend',\n",
       "                 'spending_flag',             'median_days',\n",
       "                'frequency_flag',                  'Gender',\n",
       "                         'STATE',                     'Age',\n",
       "                   'date_joined',            'n_dependants',\n",
       "                    'fam_status',                  'income',\n",
       "                        'Region', ('order_number', 'count'),\n",
       "                  'Low_activity',                'age_flag',\n",
       "                   'income_flag'],\n",
       "      dtype='object')"
      ]
     },
     "execution_count": 60,
     "metadata": {},
     "output_type": "execute_result"
    }
   ],
   "source": [
    "df_regular.columns"
   ]
  },
  {
   "cell_type": "markdown",
   "metadata": {},
   "source": [
    "#### Profiling according to age, marital status, and number of dependants"
   ]
  },
  {
   "cell_type": "code",
   "execution_count": 61,
   "metadata": {},
   "outputs": [
    {
     "name": "stderr",
     "output_type": "stream",
     "text": [
      "C:\\Users\\kirat\\anaconda3\\lib\\site-packages\\pandas\\core\\indexing.py:845: SettingWithCopyWarning: \n",
      "A value is trying to be set on a copy of a slice from a DataFrame.\n",
      "Try using .loc[row_indexer,col_indexer] = value instead\n",
      "\n",
      "See the caveats in the documentation: https://pandas.pydata.org/pandas-docs/stable/user_guide/indexing.html#returning-a-view-versus-a-copy\n",
      "  self.obj[key] = _infer_fill_value(value)\n",
      "C:\\Users\\kirat\\anaconda3\\lib\\site-packages\\pandas\\core\\indexing.py:966: SettingWithCopyWarning: \n",
      "A value is trying to be set on a copy of a slice from a DataFrame.\n",
      "Try using .loc[row_indexer,col_indexer] = value instead\n",
      "\n",
      "See the caveats in the documentation: https://pandas.pydata.org/pandas-docs/stable/user_guide/indexing.html#returning-a-view-versus-a-copy\n",
      "  self.obj[item] = s\n"
     ]
    }
   ],
   "source": [
    "df_regular.loc[(df_regular['fam_status']=='married')&(df_regular['n_dependants']==1)&\n",
    "               (df_regular['age_flag']=='18-32'),'profiling']='Young family with 1 dependants'"
   ]
  },
  {
   "cell_type": "code",
   "execution_count": 62,
   "metadata": {},
   "outputs": [],
   "source": [
    "df_regular.loc[(df_regular['fam_status']=='married')&(df_regular['n_dependants']>=2)&\n",
    "               (df_regular['age_flag']=='18-32'),'profiling']='Young family with 2 or more dependants'"
   ]
  },
  {
   "cell_type": "code",
   "execution_count": 63,
   "metadata": {},
   "outputs": [],
   "source": [
    "df_regular.loc[(df_regular['fam_status']=='married')&(df_regular['n_dependants']==0)&\n",
    "               (df_regular['age_flag']=='18-32'),'profiling']='Young family without dependants'"
   ]
  },
  {
   "cell_type": "code",
   "execution_count": 64,
   "metadata": {},
   "outputs": [],
   "source": [
    "df_regular.loc[(df_regular['fam_status']!='married')&(df_regular['n_dependants']>0)&\n",
    "               (df_regular['age_flag']=='18-32'),'profiling']='Young single with dependants'"
   ]
  },
  {
   "cell_type": "code",
   "execution_count": 65,
   "metadata": {},
   "outputs": [],
   "source": [
    "df_regular.loc[(df_regular['fam_status']!='married')&(df_regular['n_dependants']==0)&\n",
    "               (df_regular['age_flag']=='18-32'),'profiling']='Young single without dependants'"
   ]
  },
  {
   "cell_type": "code",
   "execution_count": 66,
   "metadata": {},
   "outputs": [],
   "source": [
    "df_regular.loc[(df_regular['fam_status']=='married')&(df_regular['n_dependants']==1)&\n",
    "               (df_regular['age_flag']=='33-48'),'profiling']='Age 33-48 family with 1 dependant'"
   ]
  },
  {
   "cell_type": "code",
   "execution_count": 67,
   "metadata": {},
   "outputs": [],
   "source": [
    "df_regular.loc[(df_regular['fam_status']=='married')&(df_regular['n_dependants']>=2)&\n",
    "               (df_regular['age_flag']=='33-48'),'profiling']='Age 33-48 familty with 2 or more dependants'"
   ]
  },
  {
   "cell_type": "code",
   "execution_count": 68,
   "metadata": {},
   "outputs": [],
   "source": [
    "df_regular.loc[(df_regular['fam_status']=='married')&(df_regular['n_dependants']==0)&\n",
    "               (df_regular['age_flag']=='33-48'),'profiling']='Age 33-48 family without dependants'"
   ]
  },
  {
   "cell_type": "code",
   "execution_count": 69,
   "metadata": {},
   "outputs": [],
   "source": [
    "df_regular.loc[(df_regular['fam_status']!='married')&(df_regular['n_dependants']>0)&\n",
    "               (df_regular['age_flag']=='33-48'),'profiling']='Age 33-48 single without dependants'"
   ]
  },
  {
   "cell_type": "code",
   "execution_count": 70,
   "metadata": {},
   "outputs": [],
   "source": [
    "df_regular.loc[(df_regular['fam_status']!='married')&(df_regular['n_dependants']>0)&\n",
    "               (df_regular['age_flag']=='33-48'),'profiling']='Age 33-48 single with dependants'"
   ]
  },
  {
   "cell_type": "code",
   "execution_count": 71,
   "metadata": {},
   "outputs": [],
   "source": [
    "df_regular.loc[(df_regular['fam_status']=='married')&(df_regular['n_dependants']==1)&\n",
    "               (df_regular['age_flag']=='49-64'),'profiling']='Age 49-64 family with 1 dependant'"
   ]
  },
  {
   "cell_type": "code",
   "execution_count": 72,
   "metadata": {},
   "outputs": [],
   "source": [
    "df_regular.loc[(df_regular['fam_status']=='married')&(df_regular['n_dependants']>=2)&\n",
    "               (df_regular['age_flag']=='49-64'),'profiling']='Age 49-64 familty with 2 or more dependants'"
   ]
  },
  {
   "cell_type": "code",
   "execution_count": 73,
   "metadata": {},
   "outputs": [],
   "source": [
    "df_regular.loc[(df_regular['fam_status']=='married')&(df_regular['n_dependants']==0)&\n",
    "               (df_regular['age_flag']=='49-64'),'profiling']='Age 49-64 family without dependants'"
   ]
  },
  {
   "cell_type": "code",
   "execution_count": 74,
   "metadata": {},
   "outputs": [],
   "source": [
    "df_regular.loc[(df_regular['fam_status']!='married')&(df_regular['n_dependants']>0)&\n",
    "               (df_regular['age_flag']=='49-64'),'profiling']='Age 49-64 single without dependants'"
   ]
  },
  {
   "cell_type": "code",
   "execution_count": 75,
   "metadata": {},
   "outputs": [],
   "source": [
    "df_regular.loc[(df_regular['fam_status']!='married')&(df_regular['n_dependants']>0)&\n",
    "               (df_regular['age_flag']=='49-64'),'profiling']='Age 49-64 single with dependants'"
   ]
  },
  {
   "cell_type": "code",
   "execution_count": 76,
   "metadata": {},
   "outputs": [],
   "source": [
    "df_regular.loc[(df_regular['fam_status']=='married')&(df_regular['n_dependants']>0)&\n",
    "               (df_regular['age_flag']=='65+'),'profiling']='Age 65+ family with dependants'"
   ]
  },
  {
   "cell_type": "code",
   "execution_count": 77,
   "metadata": {},
   "outputs": [],
   "source": [
    "df_regular.loc[(df_regular['fam_status']=='married')&(df_regular['n_dependants']==0)&\n",
    "               (df_regular['age_flag']=='65+'),'profiling']='Age 65+ family without dependants'"
   ]
  },
  {
   "cell_type": "code",
   "execution_count": 78,
   "metadata": {},
   "outputs": [],
   "source": [
    "df_regular.loc[(df_regular['fam_status']!='married')&(df_regular['n_dependants']==0)&\n",
    "               (df_regular['age_flag']=='65+'),'profiling']='Age 65+ single without dependants'"
   ]
  },
  {
   "cell_type": "code",
   "execution_count": 79,
   "metadata": {},
   "outputs": [],
   "source": [
    "df_regular.loc[(df_regular['fam_status']!='married')&(df_regular['n_dependants']>0)&\n",
    "               (df_regular['age_flag']=='65+'),'profiling']='Age 65+ single with dependants'"
   ]
  },
  {
   "cell_type": "code",
   "execution_count": 80,
   "metadata": {},
   "outputs": [],
   "source": [
    "df_regular.loc[(df_regular['fam_status']=='married')&(df_regular['n_dependants']==0)&\n",
    "               (df_regular['age_flag']=='33-48'),'profiling']='Age 33-48 family without dependants'"
   ]
  },
  {
   "cell_type": "code",
   "execution_count": 81,
   "metadata": {},
   "outputs": [],
   "source": [
    "df_regular.loc[(df_regular['fam_status']!='married')&(df_regular['n_dependants']==0)&\n",
    "               (df_regular['age_flag']=='33-48'),'profiling']='Age 33-48 single without dependants'"
   ]
  },
  {
   "cell_type": "code",
   "execution_count": 82,
   "metadata": {},
   "outputs": [],
   "source": [
    "df_regular.loc[(df_regular['fam_status']=='married')&(df_regular['n_dependants']==0)&\n",
    "               (df_regular['age_flag']=='49-64'),'profiling']='Age 49-64 family without dependants'"
   ]
  },
  {
   "cell_type": "code",
   "execution_count": 83,
   "metadata": {},
   "outputs": [],
   "source": [
    "df_regular.loc[(df_regular['fam_status']!='married')&(df_regular['n_dependants']==0)&\n",
    "               (df_regular['age_flag']=='49-64'),'profiling']='Age 49-64 single without dependants'"
   ]
  },
  {
   "cell_type": "code",
   "execution_count": 84,
   "metadata": {},
   "outputs": [
    {
     "data": {
      "text/plain": [
       "Age 65+ family with dependants                 1549526\n",
       "Age 49-64 familty with 2 or more dependants     982816\n",
       "Age 33-48 familty with 2 or more dependants     937659\n",
       "Young family with 2 or more dependants          681605\n",
       "Age 65+ single without dependants               511833\n",
       "Age 33-48 family with 1 dependants              511128\n",
       "Age 33-48 single without dependants             495944\n",
       "Age 49-64 single without dependants             491205\n",
       "Age 49-64 family with 1 dependants              481671\n",
       "Young single without dependants                 439097\n",
       "Young single with dependants                    388451\n",
       "Young family with 1 dependants                  347839\n",
       "Name: profiling, dtype: int64"
      ]
     },
     "execution_count": 84,
     "metadata": {},
     "output_type": "execute_result"
    }
   ],
   "source": [
    "df_regular['profiling'].value_counts()"
   ]
  },
  {
   "cell_type": "code",
   "execution_count": 85,
   "metadata": {},
   "outputs": [
    {
     "data": {
      "text/plain": [
       "(7818774, 38)"
      ]
     },
     "execution_count": 85,
     "metadata": {},
     "output_type": "execute_result"
    }
   ],
   "source": [
    "df_regular.shape"
   ]
  },
  {
   "cell_type": "code",
   "execution_count": 86,
   "metadata": {},
   "outputs": [
    {
     "data": {
      "text/plain": [
       "0"
      ]
     },
     "execution_count": 86,
     "metadata": {},
     "output_type": "execute_result"
    }
   ],
   "source": [
    "df_regular['profiling'].isnull().sum()"
   ]
  },
  {
   "cell_type": "code",
   "execution_count": 87,
   "metadata": {},
   "outputs": [
    {
     "data": {
      "text/html": [
       "<div>\n",
       "<style scoped>\n",
       "    .dataframe tbody tr th:only-of-type {\n",
       "        vertical-align: middle;\n",
       "    }\n",
       "\n",
       "    .dataframe tbody tr th {\n",
       "        vertical-align: top;\n",
       "    }\n",
       "\n",
       "    .dataframe thead th {\n",
       "        text-align: right;\n",
       "    }\n",
       "</style>\n",
       "<table border=\"1\" class=\"dataframe\">\n",
       "  <thead>\n",
       "    <tr style=\"text-align: right;\">\n",
       "      <th>Region</th>\n",
       "      <th>Midwest</th>\n",
       "      <th>Northeast</th>\n",
       "      <th>Other</th>\n",
       "      <th>South</th>\n",
       "      <th>West</th>\n",
       "    </tr>\n",
       "    <tr>\n",
       "      <th>profiling</th>\n",
       "      <th></th>\n",
       "      <th></th>\n",
       "      <th></th>\n",
       "      <th></th>\n",
       "      <th></th>\n",
       "    </tr>\n",
       "  </thead>\n",
       "  <tbody>\n",
       "    <tr>\n",
       "      <th>Age 33-48 familty with 2 or more dependants</th>\n",
       "      <td>213386</td>\n",
       "      <td>146412</td>\n",
       "      <td>20682</td>\n",
       "      <td>317211</td>\n",
       "      <td>239968</td>\n",
       "    </tr>\n",
       "    <tr>\n",
       "      <th>Age 33-48 family with 1 dependants</th>\n",
       "      <td>129510</td>\n",
       "      <td>84627</td>\n",
       "      <td>7683</td>\n",
       "      <td>159659</td>\n",
       "      <td>129649</td>\n",
       "    </tr>\n",
       "    <tr>\n",
       "      <th>Age 33-48 single without dependants</th>\n",
       "      <td>123480</td>\n",
       "      <td>74008</td>\n",
       "      <td>8365</td>\n",
       "      <td>171104</td>\n",
       "      <td>118987</td>\n",
       "    </tr>\n",
       "    <tr>\n",
       "      <th>Age 49-64 familty with 2 or more dependants</th>\n",
       "      <td>219826</td>\n",
       "      <td>163451</td>\n",
       "      <td>18187</td>\n",
       "      <td>327388</td>\n",
       "      <td>253964</td>\n",
       "    </tr>\n",
       "    <tr>\n",
       "      <th>Age 49-64 family with 1 dependants</th>\n",
       "      <td>106021</td>\n",
       "      <td>76184</td>\n",
       "      <td>10173</td>\n",
       "      <td>161784</td>\n",
       "      <td>127509</td>\n",
       "    </tr>\n",
       "    <tr>\n",
       "      <th>Age 49-64 single without dependants</th>\n",
       "      <td>121265</td>\n",
       "      <td>71970</td>\n",
       "      <td>6828</td>\n",
       "      <td>162603</td>\n",
       "      <td>128539</td>\n",
       "    </tr>\n",
       "    <tr>\n",
       "      <th>Age 65+ family with dependants</th>\n",
       "      <td>356998</td>\n",
       "      <td>246170</td>\n",
       "      <td>29713</td>\n",
       "      <td>517392</td>\n",
       "      <td>399253</td>\n",
       "    </tr>\n",
       "    <tr>\n",
       "      <th>Age 65+ single without dependants</th>\n",
       "      <td>113298</td>\n",
       "      <td>98406</td>\n",
       "      <td>9552</td>\n",
       "      <td>164539</td>\n",
       "      <td>126038</td>\n",
       "    </tr>\n",
       "    <tr>\n",
       "      <th>Young family with 1 dependants</th>\n",
       "      <td>80279</td>\n",
       "      <td>61408</td>\n",
       "      <td>5453</td>\n",
       "      <td>113454</td>\n",
       "      <td>87245</td>\n",
       "    </tr>\n",
       "    <tr>\n",
       "      <th>Young family with 2 or more dependants</th>\n",
       "      <td>163592</td>\n",
       "      <td>105770</td>\n",
       "      <td>13213</td>\n",
       "      <td>234342</td>\n",
       "      <td>164688</td>\n",
       "    </tr>\n",
       "    <tr>\n",
       "      <th>Young single with dependants</th>\n",
       "      <td>89494</td>\n",
       "      <td>45810</td>\n",
       "      <td>8148</td>\n",
       "      <td>142878</td>\n",
       "      <td>102121</td>\n",
       "    </tr>\n",
       "    <tr>\n",
       "      <th>Young single without dependants</th>\n",
       "      <td>100269</td>\n",
       "      <td>78634</td>\n",
       "      <td>6267</td>\n",
       "      <td>149648</td>\n",
       "      <td>104279</td>\n",
       "    </tr>\n",
       "  </tbody>\n",
       "</table>\n",
       "</div>"
      ],
      "text/plain": [
       "Region                                       Midwest  Northeast  Other  \\\n",
       "profiling                                                                \n",
       "Age 33-48 familty with 2 or more dependants   213386     146412  20682   \n",
       "Age 33-48 family with 1 dependants            129510      84627   7683   \n",
       "Age 33-48 single without dependants           123480      74008   8365   \n",
       "Age 49-64 familty with 2 or more dependants   219826     163451  18187   \n",
       "Age 49-64 family with 1 dependants            106021      76184  10173   \n",
       "Age 49-64 single without dependants           121265      71970   6828   \n",
       "Age 65+ family with dependants                356998     246170  29713   \n",
       "Age 65+ single without dependants             113298      98406   9552   \n",
       "Young family with 1 dependants                 80279      61408   5453   \n",
       "Young family with 2 or more dependants        163592     105770  13213   \n",
       "Young single with dependants                   89494      45810   8148   \n",
       "Young single without dependants               100269      78634   6267   \n",
       "\n",
       "Region                                        South    West  \n",
       "profiling                                                    \n",
       "Age 33-48 familty with 2 or more dependants  317211  239968  \n",
       "Age 33-48 family with 1 dependants           159659  129649  \n",
       "Age 33-48 single without dependants          171104  118987  \n",
       "Age 49-64 familty with 2 or more dependants  327388  253964  \n",
       "Age 49-64 family with 1 dependants           161784  127509  \n",
       "Age 49-64 single without dependants          162603  128539  \n",
       "Age 65+ family with dependants               517392  399253  \n",
       "Age 65+ single without dependants            164539  126038  \n",
       "Young family with 1 dependants               113454   87245  \n",
       "Young family with 2 or more dependants       234342  164688  \n",
       "Young single with dependants                 142878  102121  \n",
       "Young single without dependants              149648  104279  "
      ]
     },
     "execution_count": 87,
     "metadata": {},
     "output_type": "execute_result"
    }
   ],
   "source": [
    "crosstab_prof = pd.crosstab(df_regular['profiling'],df_regular['Region'], dropna=False)\n",
    "crosstab_prof"
   ]
  },
  {
   "cell_type": "code",
   "execution_count": 88,
   "metadata": {},
   "outputs": [],
   "source": [
    "df=df_regular.drop(['eval_set'], axis=1)"
   ]
  },
  {
   "cell_type": "code",
   "execution_count": 89,
   "metadata": {},
   "outputs": [
    {
     "data": {
      "text/plain": [
       "(7818774, 37)"
      ]
     },
     "execution_count": 89,
     "metadata": {},
     "output_type": "execute_result"
    }
   ],
   "source": [
    "df.shape"
   ]
  },
  {
   "cell_type": "code",
   "execution_count": 90,
   "metadata": {},
   "outputs": [],
   "source": [
    "crosstab_prof.to_clipboard()"
   ]
  },
  {
   "cell_type": "code",
   "execution_count": 91,
   "metadata": {},
   "outputs": [
    {
     "data": {
      "text/plain": [
       "Index([               'order_id',                 'user_id',\n",
       "                      'order_id',       'order_day_of_week',\n",
       "             'order_hour_of_day',  'days_since_prior_order',\n",
       "                    'product_id',       'add_to_cart_order',\n",
       "                     'reordered',                  '_merge',\n",
       "                  'product_name',                'aisle_id',\n",
       "                 'department_id',                  'prices',\n",
       "               'price_range_loc',             'busiest_day',\n",
       "                  'busiest_days',   'busiest_period_of_day',\n",
       "                     'max_order',            'loyalty_flag',\n",
       "                    'mean_spend',           'spending_flag',\n",
       "                   'median_days',          'frequency_flag',\n",
       "                        'Gender',                   'STATE',\n",
       "                           'Age',             'date_joined',\n",
       "                  'n_dependants',              'fam_status',\n",
       "                        'income',                  'Region',\n",
       "       ('order_number', 'count'),            'Low_activity',\n",
       "                      'age_flag',             'income_flag',\n",
       "                     'profiling'],\n",
       "      dtype='object')"
      ]
     },
     "execution_count": 91,
     "metadata": {},
     "output_type": "execute_result"
    }
   ],
   "source": [
    "df.columns"
   ]
  },
  {
   "cell_type": "code",
   "execution_count": 92,
   "metadata": {
    "scrolled": true
   },
   "outputs": [
    {
     "data": {
      "text/plain": [
       "Regular customer    3826135\n",
       "Loyal customer      2501034\n",
       "New customer        1491605\n",
       "Name: loyalty_flag, dtype: int64"
      ]
     },
     "execution_count": 92,
     "metadata": {},
     "output_type": "execute_result"
    }
   ],
   "source": [
    "df['loyalty_flag'].value_counts()"
   ]
  },
  {
   "cell_type": "code",
   "execution_count": 93,
   "metadata": {},
   "outputs": [
    {
     "data": {
      "text/plain": [
       "Low spender     7675180\n",
       "High spender     143594\n",
       "Name: spending_flag, dtype: int64"
      ]
     },
     "execution_count": 93,
     "metadata": {},
     "output_type": "execute_result"
    }
   ],
   "source": [
    "df['spending_flag'].value_counts()"
   ]
  },
  {
   "cell_type": "code",
   "execution_count": 94,
   "metadata": {},
   "outputs": [
    {
     "data": {
      "image/png": "[encoded data removed]",
      "text/plain": [
       "<Figure size 432x288 with 1 Axes>"
      ]
     },
     "metadata": {
      "needs_background": "light"
     },
     "output_type": "display_data"
    }
   ],
   "source": [
    "plot_hours = sns.scatterplot(x='order_hour_of_day', y='mean_spend', data=df)"
   ]
  },
  {
   "cell_type": "code",
   "execution_count": 95,
   "metadata": {},
   "outputs": [],
   "source": [
    "plot_hours.figure.savefig(os.path.join(path, '04 Analysis', 'Visializations','plot_hours.png'))"
   ]
  },
  {
   "cell_type": "code",
   "execution_count": 96,
   "metadata": {},
   "outputs": [
    {
     "data": {
      "text/plain": [
       "Mid range product     5276352\n",
       "Low range product     2442884\n",
       "High range product      99538\n",
       "Name: price_range_loc, dtype: int64"
      ]
     },
     "execution_count": 96,
     "metadata": {},
     "output_type": "execute_result"
    }
   ],
   "source": [
    "df['price_range_loc'].value_counts()"
   ]
  },
  {
   "cell_type": "markdown",
   "metadata": {},
   "source": [
    "#### Region and price range analysis"
   ]
  },
  {
   "cell_type": "code",
   "execution_count": 97,
   "metadata": {},
   "outputs": [
    {
     "data": {
      "image/png": "[encoded data removed]",
      "text/plain": [
       "<Figure size 432x288 with 1 Axes>"
      ]
     },
     "metadata": {
      "needs_background": "light"
     },
     "output_type": "display_data"
    }
   ],
   "source": [
    "bar_region=df_regular['Region'].value_counts().sort_index().plot.bar()"
   ]
  },
  {
   "cell_type": "code",
   "execution_count": 106,
   "metadata": {},
   "outputs": [],
   "source": [
    "bar_region.figure.savefig(os.path.join(path, '04 Analysis', 'Visializations','bar_region.png'))"
   ]
  },
  {
   "cell_type": "code",
   "execution_count": 101,
   "metadata": {},
   "outputs": [
    {
     "data": {
      "text/html": [
       "<div>\n",
       "<style scoped>\n",
       "    .dataframe tbody tr th:only-of-type {\n",
       "        vertical-align: middle;\n",
       "    }\n",
       "\n",
       "    .dataframe tbody tr th {\n",
       "        vertical-align: top;\n",
       "    }\n",
       "\n",
       "    .dataframe thead th {\n",
       "        text-align: right;\n",
       "    }\n",
       "</style>\n",
       "<table border=\"1\" class=\"dataframe\">\n",
       "  <thead>\n",
       "    <tr style=\"text-align: right;\">\n",
       "      <th>price_range_loc</th>\n",
       "      <th>High range product</th>\n",
       "      <th>Low range product</th>\n",
       "      <th>Mid range product</th>\n",
       "    </tr>\n",
       "    <tr>\n",
       "      <th>Region</th>\n",
       "      <th></th>\n",
       "      <th></th>\n",
       "      <th></th>\n",
       "    </tr>\n",
       "  </thead>\n",
       "  <tbody>\n",
       "    <tr>\n",
       "      <th>Midwest</th>\n",
       "      <td>22956</td>\n",
       "      <td>567978</td>\n",
       "      <td>1226484</td>\n",
       "    </tr>\n",
       "    <tr>\n",
       "      <th>Northeast</th>\n",
       "      <td>16182</td>\n",
       "      <td>393174</td>\n",
       "      <td>843494</td>\n",
       "    </tr>\n",
       "    <tr>\n",
       "      <th>Other</th>\n",
       "      <td>1822</td>\n",
       "      <td>45000</td>\n",
       "      <td>97442</td>\n",
       "    </tr>\n",
       "    <tr>\n",
       "      <th>South</th>\n",
       "      <td>33073</td>\n",
       "      <td>818955</td>\n",
       "      <td>1769974</td>\n",
       "    </tr>\n",
       "    <tr>\n",
       "      <th>West</th>\n",
       "      <td>25505</td>\n",
       "      <td>617777</td>\n",
       "      <td>1338958</td>\n",
       "    </tr>\n",
       "  </tbody>\n",
       "</table>\n",
       "</div>"
      ],
      "text/plain": [
       "price_range_loc  High range product  Low range product  Mid range product\n",
       "Region                                                                   \n",
       "Midwest                       22956             567978            1226484\n",
       "Northeast                     16182             393174             843494\n",
       "Other                          1822              45000              97442\n",
       "South                         33073             818955            1769974\n",
       "West                          25505             617777            1338958"
      ]
     },
     "execution_count": 101,
     "metadata": {},
     "output_type": "execute_result"
    }
   ],
   "source": [
    "crosstab_price = pd.crosstab(df_regular['Region'],df_regular['price_range_loc'], dropna=False)\n",
    "crosstab_price"
   ]
  },
  {
   "cell_type": "code",
   "execution_count": 102,
   "metadata": {},
   "outputs": [],
   "source": [
    "crosstab_price.to_clipboard()"
   ]
  },
  {
   "cell_type": "code",
   "execution_count": 104,
   "metadata": {},
   "outputs": [
    {
     "data": {
      "text/html": [
       "<div>\n",
       "<style scoped>\n",
       "    .dataframe tbody tr th:only-of-type {\n",
       "        vertical-align: middle;\n",
       "    }\n",
       "\n",
       "    .dataframe tbody tr th {\n",
       "        vertical-align: top;\n",
       "    }\n",
       "\n",
       "    .dataframe thead th {\n",
       "        text-align: right;\n",
       "    }\n",
       "</style>\n",
       "<table border=\"1\" class=\"dataframe\">\n",
       "  <thead>\n",
       "    <tr style=\"text-align: right;\">\n",
       "      <th>price_range_loc</th>\n",
       "      <th>High range product</th>\n",
       "      <th>Low range product</th>\n",
       "      <th>Mid range product</th>\n",
       "    </tr>\n",
       "    <tr>\n",
       "      <th>profiling</th>\n",
       "      <th></th>\n",
       "      <th></th>\n",
       "      <th></th>\n",
       "    </tr>\n",
       "  </thead>\n",
       "  <tbody>\n",
       "    <tr>\n",
       "      <th>Age 33-48 familty with 2 or more dependants</th>\n",
       "      <td>11971</td>\n",
       "      <td>292830</td>\n",
       "      <td>632858</td>\n",
       "    </tr>\n",
       "    <tr>\n",
       "      <th>Age 33-48 family with 1 dependants</th>\n",
       "      <td>6842</td>\n",
       "      <td>159459</td>\n",
       "      <td>344827</td>\n",
       "    </tr>\n",
       "    <tr>\n",
       "      <th>Age 33-48 single without dependants</th>\n",
       "      <td>6026</td>\n",
       "      <td>155621</td>\n",
       "      <td>334297</td>\n",
       "    </tr>\n",
       "    <tr>\n",
       "      <th>Age 49-64 familty with 2 or more dependants</th>\n",
       "      <td>13021</td>\n",
       "      <td>308482</td>\n",
       "      <td>661313</td>\n",
       "    </tr>\n",
       "    <tr>\n",
       "      <th>Age 49-64 family with 1 dependants</th>\n",
       "      <td>5787</td>\n",
       "      <td>152706</td>\n",
       "      <td>323178</td>\n",
       "    </tr>\n",
       "    <tr>\n",
       "      <th>Age 49-64 single without dependants</th>\n",
       "      <td>5979</td>\n",
       "      <td>152379</td>\n",
       "      <td>332847</td>\n",
       "    </tr>\n",
       "    <tr>\n",
       "      <th>Age 65+ family with dependants</th>\n",
       "      <td>20354</td>\n",
       "      <td>482525</td>\n",
       "      <td>1046647</td>\n",
       "    </tr>\n",
       "    <tr>\n",
       "      <th>Age 65+ single without dependants</th>\n",
       "      <td>6755</td>\n",
       "      <td>159290</td>\n",
       "      <td>345788</td>\n",
       "    </tr>\n",
       "    <tr>\n",
       "      <th>Young family with 1 dependants</th>\n",
       "      <td>4299</td>\n",
       "      <td>107804</td>\n",
       "      <td>235736</td>\n",
       "    </tr>\n",
       "    <tr>\n",
       "      <th>Young family with 2 or more dependants</th>\n",
       "      <td>8523</td>\n",
       "      <td>212822</td>\n",
       "      <td>460260</td>\n",
       "    </tr>\n",
       "    <tr>\n",
       "      <th>Young single with dependants</th>\n",
       "      <td>4715</td>\n",
       "      <td>121271</td>\n",
       "      <td>262465</td>\n",
       "    </tr>\n",
       "    <tr>\n",
       "      <th>Young single without dependants</th>\n",
       "      <td>5266</td>\n",
       "      <td>137695</td>\n",
       "      <td>296136</td>\n",
       "    </tr>\n",
       "  </tbody>\n",
       "</table>\n",
       "</div>"
      ],
      "text/plain": [
       "price_range_loc                              High range product  \\\n",
       "profiling                                                         \n",
       "Age 33-48 familty with 2 or more dependants               11971   \n",
       "Age 33-48 family with 1 dependants                         6842   \n",
       "Age 33-48 single without dependants                        6026   \n",
       "Age 49-64 familty with 2 or more dependants               13021   \n",
       "Age 49-64 family with 1 dependants                         5787   \n",
       "Age 49-64 single without dependants                        5979   \n",
       "Age 65+ family with dependants                            20354   \n",
       "Age 65+ single without dependants                          6755   \n",
       "Young family with 1 dependants                             4299   \n",
       "Young family with 2 or more dependants                     8523   \n",
       "Young single with dependants                               4715   \n",
       "Young single without dependants                            5266   \n",
       "\n",
       "price_range_loc                              Low range product  \\\n",
       "profiling                                                        \n",
       "Age 33-48 familty with 2 or more dependants             292830   \n",
       "Age 33-48 family with 1 dependants                      159459   \n",
       "Age 33-48 single without dependants                     155621   \n",
       "Age 49-64 familty with 2 or more dependants             308482   \n",
       "Age 49-64 family with 1 dependants                      152706   \n",
       "Age 49-64 single without dependants                     152379   \n",
       "Age 65+ family with dependants                          482525   \n",
       "Age 65+ single without dependants                       159290   \n",
       "Young family with 1 dependants                          107804   \n",
       "Young family with 2 or more dependants                  212822   \n",
       "Young single with dependants                            121271   \n",
       "Young single without dependants                         137695   \n",
       "\n",
       "price_range_loc                              Mid range product  \n",
       "profiling                                                       \n",
       "Age 33-48 familty with 2 or more dependants             632858  \n",
       "Age 33-48 family with 1 dependants                      344827  \n",
       "Age 33-48 single without dependants                     334297  \n",
       "Age 49-64 familty with 2 or more dependants             661313  \n",
       "Age 49-64 family with 1 dependants                      323178  \n",
       "Age 49-64 single without dependants                     332847  \n",
       "Age 65+ family with dependants                         1046647  \n",
       "Age 65+ single without dependants                       345788  \n",
       "Young family with 1 dependants                          235736  \n",
       "Young family with 2 or more dependants                  460260  \n",
       "Young single with dependants                            262465  \n",
       "Young single without dependants                         296136  "
      ]
     },
     "execution_count": 104,
     "metadata": {},
     "output_type": "execute_result"
    }
   ],
   "source": [
    "crosstab_family = pd.crosstab(df_regular['profiling'],df_regular['price_range_loc'], dropna=False)\n",
    "crosstab_family"
   ]
  },
  {
   "cell_type": "code",
   "execution_count": 105,
   "metadata": {},
   "outputs": [],
   "source": [
    "crosstab_family.to_clipboard()"
   ]
  },
  {
   "cell_type": "markdown",
   "metadata": {},
   "source": [
    "### 7. Mean, minimum, maximum of prices within profiling"
   ]
  },
  {
   "cell_type": "code",
   "execution_count": 107,
   "metadata": {},
   "outputs": [
    {
     "data": {
      "text/plain": [
       "profiling\n",
       "Age 33-48 familty with 2 or more dependants    11.520890\n",
       "Age 33-48 family with 1 dependants             10.503776\n",
       "Age 33-48 single without dependants             9.224767\n",
       "Age 49-64 familty with 2 or more dependants    11.867863\n",
       "Age 49-64 family with 1 dependants             11.256964\n",
       "Age 49-64 single without dependants            10.592501\n",
       "Age 65+ family with dependants                 11.232289\n",
       "Age 65+ single without dependants              12.352731\n",
       "Young family with 1 dependants                 11.773420\n",
       "Young family with 2 or more dependants         11.208246\n",
       "Young single with dependants                    9.962890\n",
       "Young single without dependants                 9.252573\n",
       "Name: prices, dtype: float64"
      ]
     },
     "execution_count": 107,
     "metadata": {},
     "output_type": "execute_result"
    }
   ],
   "source": [
    "df.groupby('profiling').prices.mean()"
   ]
  },
  {
   "cell_type": "code",
   "execution_count": 108,
   "metadata": {},
   "outputs": [
    {
     "data": {
      "text/plain": [
       "profiling\n",
       "Age 33-48 familty with 2 or more dependants    1.0\n",
       "Age 33-48 family with 1 dependants             1.0\n",
       "Age 33-48 single without dependants            1.0\n",
       "Age 49-64 familty with 2 or more dependants    1.0\n",
       "Age 49-64 family with 1 dependants             1.0\n",
       "Age 49-64 single without dependants            1.0\n",
       "Age 65+ family with dependants                 1.0\n",
       "Age 65+ single without dependants              1.0\n",
       "Young family with 1 dependants                 1.0\n",
       "Young family with 2 or more dependants         1.0\n",
       "Young single with dependants                   1.0\n",
       "Young single without dependants                1.0\n",
       "Name: prices, dtype: float64"
      ]
     },
     "execution_count": 108,
     "metadata": {},
     "output_type": "execute_result"
    }
   ],
   "source": [
    "df.groupby('profiling').prices.min()"
   ]
  },
  {
   "cell_type": "code",
   "execution_count": 109,
   "metadata": {},
   "outputs": [
    {
     "data": {
      "text/plain": [
       "profiling\n",
       "Age 33-48 familty with 2 or more dependants    99999.0\n",
       "Age 33-48 family with 1 dependants             99999.0\n",
       "Age 33-48 single without dependants            14900.0\n",
       "Age 49-64 familty with 2 or more dependants    99999.0\n",
       "Age 49-64 family with 1 dependants             99999.0\n",
       "Age 49-64 single without dependants            99999.0\n",
       "Age 65+ family with dependants                 99999.0\n",
       "Age 65+ single without dependants              99999.0\n",
       "Young family with 1 dependants                 99999.0\n",
       "Young family with 2 or more dependants         99999.0\n",
       "Young single with dependants                   99999.0\n",
       "Young single without dependants                14900.0\n",
       "Name: prices, dtype: float64"
      ]
     },
     "execution_count": 109,
     "metadata": {},
     "output_type": "execute_result"
    }
   ],
   "source": [
    "df.groupby('profiling').prices.max()"
   ]
  },
  {
   "cell_type": "markdown",
   "metadata": {},
   "source": [
    "### 8. Region vs deparment analysis"
   ]
  },
  {
   "cell_type": "code",
   "execution_count": 110,
   "metadata": {
    "scrolled": true
   },
   "outputs": [
    {
     "data": {
      "text/html": [
       "<div>\n",
       "<style scoped>\n",
       "    .dataframe tbody tr th:only-of-type {\n",
       "        vertical-align: middle;\n",
       "    }\n",
       "\n",
       "    .dataframe tbody tr th {\n",
       "        vertical-align: top;\n",
       "    }\n",
       "\n",
       "    .dataframe thead th {\n",
       "        text-align: right;\n",
       "    }\n",
       "</style>\n",
       "<table border=\"1\" class=\"dataframe\">\n",
       "  <thead>\n",
       "    <tr style=\"text-align: right;\">\n",
       "      <th>department_id</th>\n",
       "      <th>1</th>\n",
       "      <th>2</th>\n",
       "      <th>3</th>\n",
       "      <th>4</th>\n",
       "      <th>5</th>\n",
       "      <th>6</th>\n",
       "      <th>7</th>\n",
       "      <th>8</th>\n",
       "      <th>9</th>\n",
       "      <th>10</th>\n",
       "      <th>...</th>\n",
       "      <th>12</th>\n",
       "      <th>13</th>\n",
       "      <th>14</th>\n",
       "      <th>15</th>\n",
       "      <th>16</th>\n",
       "      <th>17</th>\n",
       "      <th>18</th>\n",
       "      <th>19</th>\n",
       "      <th>20</th>\n",
       "      <th>21</th>\n",
       "    </tr>\n",
       "    <tr>\n",
       "      <th>Region</th>\n",
       "      <th></th>\n",
       "      <th></th>\n",
       "      <th></th>\n",
       "      <th></th>\n",
       "      <th></th>\n",
       "      <th></th>\n",
       "      <th></th>\n",
       "      <th></th>\n",
       "      <th></th>\n",
       "      <th></th>\n",
       "      <th></th>\n",
       "      <th></th>\n",
       "      <th></th>\n",
       "      <th></th>\n",
       "      <th></th>\n",
       "      <th></th>\n",
       "      <th></th>\n",
       "      <th></th>\n",
       "      <th></th>\n",
       "      <th></th>\n",
       "      <th></th>\n",
       "    </tr>\n",
       "  </thead>\n",
       "  <tbody>\n",
       "    <tr>\n",
       "      <th>Midwest</th>\n",
       "      <td>124110</td>\n",
       "      <td>1926</td>\n",
       "      <td>65847</td>\n",
       "      <td>534651</td>\n",
       "      <td>8463</td>\n",
       "      <td>15476</td>\n",
       "      <td>149725</td>\n",
       "      <td>5775</td>\n",
       "      <td>48863</td>\n",
       "      <td>2042</td>\n",
       "      <td>...</td>\n",
       "      <td>39128</td>\n",
       "      <td>105563</td>\n",
       "      <td>39736</td>\n",
       "      <td>59564</td>\n",
       "      <td>299544</td>\n",
       "      <td>43973</td>\n",
       "      <td>22608</td>\n",
       "      <td>162377</td>\n",
       "      <td>58307</td>\n",
       "      <td>3825</td>\n",
       "    </tr>\n",
       "    <tr>\n",
       "      <th>Northeast</th>\n",
       "      <td>83936</td>\n",
       "      <td>1524</td>\n",
       "      <td>45762</td>\n",
       "      <td>364779</td>\n",
       "      <td>5427</td>\n",
       "      <td>10016</td>\n",
       "      <td>104443</td>\n",
       "      <td>4206</td>\n",
       "      <td>33981</td>\n",
       "      <td>1156</td>\n",
       "      <td>...</td>\n",
       "      <td>27919</td>\n",
       "      <td>71496</td>\n",
       "      <td>27207</td>\n",
       "      <td>41179</td>\n",
       "      <td>209287</td>\n",
       "      <td>28330</td>\n",
       "      <td>18228</td>\n",
       "      <td>112725</td>\n",
       "      <td>41439</td>\n",
       "      <td>2624</td>\n",
       "    </tr>\n",
       "    <tr>\n",
       "      <th>Other</th>\n",
       "      <td>9946</td>\n",
       "      <td>145</td>\n",
       "      <td>5535</td>\n",
       "      <td>40893</td>\n",
       "      <td>548</td>\n",
       "      <td>1112</td>\n",
       "      <td>13141</td>\n",
       "      <td>377</td>\n",
       "      <td>3574</td>\n",
       "      <td>158</td>\n",
       "      <td>...</td>\n",
       "      <td>3092</td>\n",
       "      <td>8232</td>\n",
       "      <td>3222</td>\n",
       "      <td>5013</td>\n",
       "      <td>23874</td>\n",
       "      <td>3357</td>\n",
       "      <td>1502</td>\n",
       "      <td>13294</td>\n",
       "      <td>4827</td>\n",
       "      <td>306</td>\n",
       "    </tr>\n",
       "    <tr>\n",
       "      <th>South</th>\n",
       "      <td>180492</td>\n",
       "      <td>2877</td>\n",
       "      <td>94214</td>\n",
       "      <td>771573</td>\n",
       "      <td>11885</td>\n",
       "      <td>21937</td>\n",
       "      <td>220058</td>\n",
       "      <td>7142</td>\n",
       "      <td>68232</td>\n",
       "      <td>2680</td>\n",
       "      <td>...</td>\n",
       "      <td>55961</td>\n",
       "      <td>151774</td>\n",
       "      <td>56479</td>\n",
       "      <td>86034</td>\n",
       "      <td>440200</td>\n",
       "      <td>58583</td>\n",
       "      <td>33383</td>\n",
       "      <td>230446</td>\n",
       "      <td>85858</td>\n",
       "      <td>5559</td>\n",
       "    </tr>\n",
       "    <tr>\n",
       "      <th>West</th>\n",
       "      <td>136066</td>\n",
       "      <td>2118</td>\n",
       "      <td>71656</td>\n",
       "      <td>581986</td>\n",
       "      <td>9816</td>\n",
       "      <td>16662</td>\n",
       "      <td>159904</td>\n",
       "      <td>6340</td>\n",
       "      <td>54227</td>\n",
       "      <td>2351</td>\n",
       "      <td>...</td>\n",
       "      <td>43814</td>\n",
       "      <td>115823</td>\n",
       "      <td>43284</td>\n",
       "      <td>66796</td>\n",
       "      <td>328636</td>\n",
       "      <td>44875</td>\n",
       "      <td>23949</td>\n",
       "      <td>177559</td>\n",
       "      <td>64630</td>\n",
       "      <td>4013</td>\n",
       "    </tr>\n",
       "  </tbody>\n",
       "</table>\n",
       "<p>5 rows × 21 columns</p>\n",
       "</div>"
      ],
      "text/plain": [
       "department_id      1     2      3       4      5      6       7     8      9   \\\n",
       "Region                                                                          \n",
       "Midwest        124110  1926  65847  534651   8463  15476  149725  5775  48863   \n",
       "Northeast       83936  1524  45762  364779   5427  10016  104443  4206  33981   \n",
       "Other            9946   145   5535   40893    548   1112   13141   377   3574   \n",
       "South          180492  2877  94214  771573  11885  21937  220058  7142  68232   \n",
       "West           136066  2118  71656  581986   9816  16662  159904  6340  54227   \n",
       "\n",
       "department_id    10  ...     12      13     14     15      16     17     18  \\\n",
       "Region               ...                                                      \n",
       "Midwest        2042  ...  39128  105563  39736  59564  299544  43973  22608   \n",
       "Northeast      1156  ...  27919   71496  27207  41179  209287  28330  18228   \n",
       "Other           158  ...   3092    8232   3222   5013   23874   3357   1502   \n",
       "South          2680  ...  55961  151774  56479  86034  440200  58583  33383   \n",
       "West           2351  ...  43814  115823  43284  66796  328636  44875  23949   \n",
       "\n",
       "department_id      19     20    21  \n",
       "Region                              \n",
       "Midwest        162377  58307  3825  \n",
       "Northeast      112725  41439  2624  \n",
       "Other           13294   4827   306  \n",
       "South          230446  85858  5559  \n",
       "West           177559  64630  4013  \n",
       "\n",
       "[5 rows x 21 columns]"
      ]
     },
     "execution_count": 110,
     "metadata": {},
     "output_type": "execute_result"
    }
   ],
   "source": [
    "crosstab_dep = pd.crosstab(df_regular['Region'],df_regular['department_id'], dropna=False)\n",
    "crosstab_dep"
   ]
  },
  {
   "cell_type": "code",
   "execution_count": 118,
   "metadata": {},
   "outputs": [
    {
     "data": {
      "text/plain": [
       "<matplotlib.axes._subplots.AxesSubplot at 0x1a31151c3d0>"
      ]
     },
     "execution_count": 118,
     "metadata": {},
     "output_type": "execute_result"
    },
    {
     "data": {
      "image/png": "[encoded data removed]",
      "text/plain": [
       "<Figure size 432x288 with 1 Axes>"
      ]
     },
     "metadata": {
      "needs_background": "light"
     },
     "output_type": "display_data"
    }
   ],
   "source": [
    "crosstab_dep.plot.bar(stacked=True)"
   ]
  },
  {
   "cell_type": "code",
   "execution_count": 99,
   "metadata": {},
   "outputs": [],
   "source": [
    "# exporting dataframe to a pickle file\n",
    "df.to_pickle(r'C:\\Users\\kirat\\Documents\\Career Foundy\\Python\\Instacart Basket Analysis\\02 Data\\Prepared Data\\data_final.pkl')"
   ]
  },
  {
   "cell_type": "code",
   "execution_count": null,
   "metadata": {},
   "outputs": [],
   "source": []
  }
 ],
 "metadata": {
  "kernelspec": {
   "display_name": "Python 3",
   "language": "python",
   "name": "python3"
  },
  "language_info": {
   "codemirror_mode": {
    "name": "ipython",
    "version": 3
   },
   "file_extension": ".py",
   "mimetype": "text/x-python",
   "name": "python",
   "nbconvert_exporter": "python",
   "pygments_lexer": "ipython3",
   "version": "3.8.3"
  }
 },
 "nbformat": 4,
 "nbformat_minor": 4
}
